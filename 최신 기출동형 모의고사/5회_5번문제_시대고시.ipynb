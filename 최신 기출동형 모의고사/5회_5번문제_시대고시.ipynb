{
 "cells": [
  {
   "cell_type": "markdown",
   "id": "83df4471",
   "metadata": {},
   "source": [
    "## 5번\n",
    "* 2년 전 제품 생산량이 100,000개, 1년 전 제품 생산량이 150,000개, 그 후 팩토리 기술의 상승으로 제품 생산량이 250,000개 되었을 때, 연평균 상승률의 대푯값을 구하시오. (반올림하여 소수점 아래 둘째자리까지 표기하시오.)"
   ]
  },
  {
   "cell_type": "code",
   "execution_count": 1,
   "id": "56a6f4d4",
   "metadata": {},
   "outputs": [
    {
     "name": "stdout",
     "output_type": "stream",
     "text": [
      "기하평균: 158.11 %\n"
     ]
    }
   ],
   "source": [
    "import numpy as np\n",
    "\n",
    "prod_2y = 100_000\n",
    "prod_1y = 150_000\n",
    "prod_0y = 250_000\n",
    "\n",
    "rt1 = (prod_1y/prod_2y)\n",
    "rt2 = (prod_0y/prod_1y)\n",
    "geo_mean= (rt1 * rt2)**(1/2)\n",
    "print('기하평균:', round(geo_mean * 100, 2), '%')\n"
   ]
  },
  {
   "cell_type": "code",
   "execution_count": 2,
   "id": "05e82601",
   "metadata": {},
   "outputs": [],
   "source": [
    "from scipy.stats import gmean"
   ]
  },
  {
   "cell_type": "code",
   "execution_count": 3,
   "id": "a36caec0",
   "metadata": {},
   "outputs": [
    {
     "data": {
      "text/plain": [
       "1.5811388300841898"
      ]
     },
     "execution_count": 3,
     "metadata": {},
     "output_type": "execute_result"
    }
   ],
   "source": [
    "gmean([rt1,rt2])"
   ]
  },
  {
   "cell_type": "code",
   "execution_count": 5,
   "id": "866e4a06",
   "metadata": {},
   "outputs": [
    {
     "data": {
      "text/plain": [
       "410.3491960107472"
      ]
     },
     "execution_count": 5,
     "metadata": {},
     "output_type": "execute_result"
    }
   ],
   "source": [
    "from statistics import *\n",
    "\n",
    "sample = [1, 5, 19, 20, 10.5, 12.3, 14.2, 125, 1325, 105.6]\n",
    "\n",
    "median(sample)      # 중앙값\n",
    "mean(sample)        # 평균\n",
    "harmonic_mean(sample)   # 조화평균 \n",
    "variance(sample)    # 표본 분산\n",
    "stdev(sample)       # 표본 표준편차"
   ]
  },
  {
   "cell_type": "code",
   "execution_count": null,
   "id": "98f801bf",
   "metadata": {},
   "outputs": [],
   "source": []
  }
 ],
 "metadata": {
  "kernelspec": {
   "display_name": "Python 3 (ipykernel)",
   "language": "python",
   "name": "python3"
  },
  "language_info": {
   "codemirror_mode": {
    "name": "ipython",
    "version": 3
   },
   "file_extension": ".py",
   "mimetype": "text/x-python",
   "name": "python",
   "nbconvert_exporter": "python",
   "pygments_lexer": "ipython3",
   "version": "3.7.12"
  },
  "toc": {
   "base_numbering": 1,
   "nav_menu": {},
   "number_sections": false,
   "sideBar": true,
   "skip_h1_title": false,
   "title_cell": "Table of Contents",
   "title_sidebar": "Contents",
   "toc_cell": false,
   "toc_position": {},
   "toc_section_display": true,
   "toc_window_display": false
  }
 },
 "nbformat": 4,
 "nbformat_minor": 5
}
