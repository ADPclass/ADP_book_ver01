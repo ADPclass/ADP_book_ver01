{
 "cells": [
  {
   "cell_type": "markdown",
   "id": "bfc60f82",
   "metadata": {},
   "source": [
    "# 9번 문제"
   ]
  },
  {
   "cell_type": "markdown",
   "id": "140ece53",
   "metadata": {},
   "source": [
    "### 지하철 호선과 월별, 승객 수 간 상관관계가 있는지 확인(Type III Anova 사용)\n",
    "\n",
    "1.귀무가설과 대립가설 설정하라\n",
    "\n",
    "\n",
    "가. 상호작용효과 검정에 대한 가설\n",
    "\n",
    "- 귀무가설 H0: 지하철 호선과 월별, 승객 수 간 상관관계가 없다.\n",
    "- 대립가설 H1: 지하철 호선과 월별, 승객 수 간 상관관계가 있다.\n",
    "\n",
    "\n",
    "\n",
    "나. 주효과 검정에 대한 가설\n",
    "\n",
    "- 귀무가설 H0: 지하철 호선 승객 수 차이는 존재하지 않는다.\n",
    "- 대립가설 H1: 지하철 호선 승객 수 차이는 존재한다.\n",
    "\n",
    "- 귀무가설 H0: 월별 승객 수 차이는 존재하지 않는다.\n",
    "- 대립가설 H1: 월별승객 수 차이는  차이는 존재한다.\n",
    "\n",
    "\n"
   ]
  },
  {
   "cell_type": "code",
   "execution_count": 1,
   "id": "0eedde1a",
   "metadata": {
    "scrolled": true
   },
   "outputs": [
    {
     "data": {
      "text/html": [
       "<div>\n",
       "<style scoped>\n",
       "    .dataframe tbody tr th:only-of-type {\n",
       "        vertical-align: middle;\n",
       "    }\n",
       "\n",
       "    .dataframe tbody tr th {\n",
       "        vertical-align: top;\n",
       "    }\n",
       "\n",
       "    .dataframe thead th {\n",
       "        text-align: right;\n",
       "    }\n",
       "</style>\n",
       "<table border=\"1\" class=\"dataframe\">\n",
       "  <thead>\n",
       "    <tr style=\"text-align: right;\">\n",
       "      <th></th>\n",
       "      <th>line</th>\n",
       "      <th>month</th>\n",
       "      <th>total</th>\n",
       "    </tr>\n",
       "  </thead>\n",
       "  <tbody>\n",
       "    <tr>\n",
       "      <th>0</th>\n",
       "      <td>1</td>\n",
       "      <td>1</td>\n",
       "      <td>1310</td>\n",
       "    </tr>\n",
       "    <tr>\n",
       "      <th>1</th>\n",
       "      <td>1</td>\n",
       "      <td>2</td>\n",
       "      <td>1300</td>\n",
       "    </tr>\n",
       "    <tr>\n",
       "      <th>2</th>\n",
       "      <td>1</td>\n",
       "      <td>3</td>\n",
       "      <td>1305</td>\n",
       "    </tr>\n",
       "    <tr>\n",
       "      <th>3</th>\n",
       "      <td>1</td>\n",
       "      <td>4</td>\n",
       "      <td>1200</td>\n",
       "    </tr>\n",
       "    <tr>\n",
       "      <th>4</th>\n",
       "      <td>1</td>\n",
       "      <td>5</td>\n",
       "      <td>1301</td>\n",
       "    </tr>\n",
       "    <tr>\n",
       "      <th>...</th>\n",
       "      <td>...</td>\n",
       "      <td>...</td>\n",
       "      <td>...</td>\n",
       "    </tr>\n",
       "    <tr>\n",
       "      <th>67</th>\n",
       "      <td>3</td>\n",
       "      <td>8</td>\n",
       "      <td>1365</td>\n",
       "    </tr>\n",
       "    <tr>\n",
       "      <th>68</th>\n",
       "      <td>3</td>\n",
       "      <td>9</td>\n",
       "      <td>1374</td>\n",
       "    </tr>\n",
       "    <tr>\n",
       "      <th>69</th>\n",
       "      <td>3</td>\n",
       "      <td>10</td>\n",
       "      <td>1337</td>\n",
       "    </tr>\n",
       "    <tr>\n",
       "      <th>70</th>\n",
       "      <td>3</td>\n",
       "      <td>11</td>\n",
       "      <td>1332</td>\n",
       "    </tr>\n",
       "    <tr>\n",
       "      <th>71</th>\n",
       "      <td>3</td>\n",
       "      <td>12</td>\n",
       "      <td>1343</td>\n",
       "    </tr>\n",
       "  </tbody>\n",
       "</table>\n",
       "<p>72 rows × 3 columns</p>\n",
       "</div>"
      ],
      "text/plain": [
       "    line  month  total\n",
       "0      1      1   1310\n",
       "1      1      2   1300\n",
       "2      1      3   1305\n",
       "3      1      4   1200\n",
       "4      1      5   1301\n",
       "..   ...    ...    ...\n",
       "67     3      8   1365\n",
       "68     3      9   1374\n",
       "69     3     10   1337\n",
       "70     3     11   1332\n",
       "71     3     12   1343\n",
       "\n",
       "[72 rows x 3 columns]"
      ]
     },
     "execution_count": 1,
     "metadata": {},
     "output_type": "execute_result"
    }
   ],
   "source": [
    "import pandas as pd \n",
    "df = pd.read_csv(\"https://raw.githubusercontent.com/ADPclass/ADP_book_ver01/main/data/27_problem9.csv\")\n",
    "df"
   ]
  },
  {
   "cell_type": "code",
   "execution_count": 2,
   "id": "f4690ccf",
   "metadata": {},
   "outputs": [
    {
     "data": {
      "text/html": [
       "<div>\n",
       "<style scoped>\n",
       "    .dataframe tbody tr th:only-of-type {\n",
       "        vertical-align: middle;\n",
       "    }\n",
       "\n",
       "    .dataframe tbody tr th {\n",
       "        vertical-align: top;\n",
       "    }\n",
       "\n",
       "    .dataframe thead th {\n",
       "        text-align: right;\n",
       "    }\n",
       "</style>\n",
       "<table border=\"1\" class=\"dataframe\">\n",
       "  <thead>\n",
       "    <tr style=\"text-align: right;\">\n",
       "      <th></th>\n",
       "      <th>sum_sq</th>\n",
       "      <th>df</th>\n",
       "      <th>F</th>\n",
       "      <th>PR(&gt;F)</th>\n",
       "    </tr>\n",
       "  </thead>\n",
       "  <tbody>\n",
       "    <tr>\n",
       "      <th>Intercept</th>\n",
       "      <td>3.466344e+06</td>\n",
       "      <td>1.0</td>\n",
       "      <td>33455.335657</td>\n",
       "      <td>4.849033e-55</td>\n",
       "    </tr>\n",
       "    <tr>\n",
       "      <th>C(line)</th>\n",
       "      <td>1.336630e+05</td>\n",
       "      <td>2.0</td>\n",
       "      <td>645.022520</td>\n",
       "      <td>6.417946e-29</td>\n",
       "    </tr>\n",
       "    <tr>\n",
       "      <th>C(month)</th>\n",
       "      <td>3.942483e+04</td>\n",
       "      <td>11.0</td>\n",
       "      <td>34.591616</td>\n",
       "      <td>7.896179e-16</td>\n",
       "    </tr>\n",
       "    <tr>\n",
       "      <th>C(line):C(month)</th>\n",
       "      <td>9.696908e+04</td>\n",
       "      <td>22.0</td>\n",
       "      <td>42.540665</td>\n",
       "      <td>1.582232e-19</td>\n",
       "    </tr>\n",
       "    <tr>\n",
       "      <th>Residual</th>\n",
       "      <td>3.730000e+03</td>\n",
       "      <td>36.0</td>\n",
       "      <td>NaN</td>\n",
       "      <td>NaN</td>\n",
       "    </tr>\n",
       "  </tbody>\n",
       "</table>\n",
       "</div>"
      ],
      "text/plain": [
       "                        sum_sq    df             F        PR(>F)\n",
       "Intercept         3.466344e+06   1.0  33455.335657  4.849033e-55\n",
       "C(line)           1.336630e+05   2.0    645.022520  6.417946e-29\n",
       "C(month)          3.942483e+04  11.0     34.591616  7.896179e-16\n",
       "C(line):C(month)  9.696908e+04  22.0     42.540665  1.582232e-19\n",
       "Residual          3.730000e+03  36.0           NaN           NaN"
      ]
     },
     "execution_count": 2,
     "metadata": {},
     "output_type": "execute_result"
    }
   ],
   "source": [
    "## 분산분석 수행 \n",
    "\n",
    "from statsmodels.formula.api import ols\n",
    "from statsmodels.stats.anova import anova_lm\n",
    "\n",
    "formula = 'total ~C(line)*C(month)' \n",
    "model = ols(formula, df).fit()\n",
    "aov_table = anova_lm(model, typ=3)\n",
    "aov_table"
   ]
  },
  {
   "cell_type": "code",
   "execution_count": 19,
   "id": "7cab8890",
   "metadata": {},
   "outputs": [],
   "source": []
  },
  {
   "cell_type": "code",
   "execution_count": 20,
   "id": "4efffab2",
   "metadata": {},
   "outputs": [
    {
     "data": {
      "image/png": "[encoded data removed]",
      "text/plain": [
       "<Figure size 600x600 with 1 Axes>"
      ]
     },
     "metadata": {},
     "output_type": "display_data"
    }
   ],
   "source": [
    "from statsmodels.graphics.factorplots import interaction_plot\n",
    "import matplotlib.pyplot as plt\n",
    "\n",
    "## Series로 변경 \n",
    "total = df[\"total\"]\n",
    "line = df[\"line\"]\n",
    "month = df[\"month\"]\n",
    "\n",
    "fig, ax = plt.subplots(figsize=(6, 6))\n",
    "fig = interaction_plot(month,line, total,ms=10, ax=ax)"
   ]
  },
  {
   "cell_type": "markdown",
   "id": "4d4fcad0",
   "metadata": {},
   "source": [
    "### 결론 : 교호작용이 존재한다. \n",
    "\n",
    "1. 결과 테이블의 C(line):C(month)를보면 서로의 차이를 총분산으로 설명하는 F- value에 대한 P-value가 0.05보다 작다. 즉, 둘의 상관관계는 존재한다. \n",
    "\n",
    "* 일반적으로 상호작용 그래프에서 두 선이 서로 교차하고 있을 시에는 x축에 있는 독립변수와 그래프에서 시각화된 독립변수 간에는 상호작용이 존재한다고 해석할 수 있다."
   ]
  },
  {
   "cell_type": "code",
   "execution_count": null,
   "id": "35860f83",
   "metadata": {},
   "outputs": [],
   "source": []
  }
 ],
 "metadata": {
  "kernelspec": {
   "display_name": "Python 3 (ipykernel)",
   "language": "python",
   "name": "python3"
  },
  "language_info": {
   "codemirror_mode": {
    "name": "ipython",
    "version": 3
   },
   "file_extension": ".py",
   "mimetype": "text/x-python",
   "name": "python",
   "nbconvert_exporter": "python",
   "pygments_lexer": "ipython3",
   "version": "3.7.12"
  },
  "toc": {
   "base_numbering": 1,
   "nav_menu": {},
   "number_sections": false,
   "sideBar": false,
   "skip_h1_title": false,
   "title_cell": "Table of Contents",
   "title_sidebar": "Contents",
   "toc_cell": false,
   "toc_position": {},
   "toc_section_display": false,
   "toc_window_display": false
  }
 },
 "nbformat": 4,
 "nbformat_minor": 5
}
