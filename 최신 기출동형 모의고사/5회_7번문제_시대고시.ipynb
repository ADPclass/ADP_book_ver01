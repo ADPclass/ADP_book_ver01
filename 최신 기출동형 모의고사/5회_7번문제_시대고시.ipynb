{
 "cells": [
  {
   "cell_type": "markdown",
   "id": "ed3ff685",
   "metadata": {},
   "source": [
    "# 7번 문제 "
   ]
  },
  {
   "cell_type": "markdown",
   "id": "b9227b1c",
   "metadata": {},
   "source": [
    "7번\n",
    "강의 상류와 하류의 생물 다양성 점수에 차이가 있는지 검정하시오. (단, 같은 강에서 상류와 하류는 서로 독립적이지 않으며, 종속적인 관계에 있다.)\n",
    "* a = 0.1\n",
    "\n",
    "7.1 귀무가설과 대립가설을 세우시오\n",
    "\n",
    "7.2 검정 통계량과 유의 확률을 구하고, 연구가설 채택여부를 검정하시오.\n"
   ]
  },
  {
   "cell_type": "code",
   "execution_count": 1,
   "id": "854b328d",
   "metadata": {
    "scrolled": true
   },
   "outputs": [
    {
     "data": {
      "text/html": [
       "<div>\n",
       "<style scoped>\n",
       "    .dataframe tbody tr th:only-of-type {\n",
       "        vertical-align: middle;\n",
       "    }\n",
       "\n",
       "    .dataframe tbody tr th {\n",
       "        vertical-align: top;\n",
       "    }\n",
       "\n",
       "    .dataframe thead th {\n",
       "        text-align: right;\n",
       "    }\n",
       "</style>\n",
       "<table border=\"1\" class=\"dataframe\">\n",
       "  <thead>\n",
       "    <tr style=\"text-align: right;\">\n",
       "      <th></th>\n",
       "      <th>river</th>\n",
       "      <th>up</th>\n",
       "      <th>down</th>\n",
       "    </tr>\n",
       "  </thead>\n",
       "  <tbody>\n",
       "    <tr>\n",
       "      <th>0</th>\n",
       "      <td>a</td>\n",
       "      <td>57.1</td>\n",
       "      <td>45.7</td>\n",
       "    </tr>\n",
       "    <tr>\n",
       "      <th>1</th>\n",
       "      <td>b</td>\n",
       "      <td>51.6</td>\n",
       "      <td>37.2</td>\n",
       "    </tr>\n",
       "    <tr>\n",
       "      <th>2</th>\n",
       "      <td>c</td>\n",
       "      <td>53.9</td>\n",
       "      <td>53.3</td>\n",
       "    </tr>\n",
       "    <tr>\n",
       "      <th>3</th>\n",
       "      <td>d</td>\n",
       "      <td>59.0</td>\n",
       "      <td>54.3</td>\n",
       "    </tr>\n",
       "    <tr>\n",
       "      <th>4</th>\n",
       "      <td>e</td>\n",
       "      <td>57.5</td>\n",
       "      <td>46.3</td>\n",
       "    </tr>\n",
       "  </tbody>\n",
       "</table>\n",
       "</div>"
      ],
      "text/plain": [
       "  river    up  down\n",
       "0     a  57.1  45.7\n",
       "1     b  51.6  37.2\n",
       "2     c  53.9  53.3\n",
       "3     d  59.0  54.3\n",
       "4     e  57.5  46.3"
      ]
     },
     "execution_count": 1,
     "metadata": {},
     "output_type": "execute_result"
    }
   ],
   "source": [
    "import pandas as pd\n",
    "import numpy as np \n",
    "\n",
    "df = pd.read_csv(\"https://raw.githubusercontent.com/ADPclass/ADP_book_ver01/main/data/27_problem7.csv\")\n",
    "df"
   ]
  },
  {
   "cell_type": "markdown",
   "id": "e89c878a",
   "metadata": {},
   "source": [
    "# 7.1 귀무가설과 대립가설을 세우시오\n",
    "\n"
   ]
  },
  {
   "cell_type": "markdown",
   "id": "b639ccd1",
   "metadata": {},
   "source": [
    "1. 귀무가설 : 상/하류간의 생물 다양성에는 차이가 없다 . \n",
    "2. 대립가설 : 상/하류간의 생물 다양성에는 차이가 있다.  "
   ]
  },
  {
   "cell_type": "markdown",
   "id": "566cc673",
   "metadata": {},
   "source": [
    "# 7.2 검정 통계량과 유의 확률을 구하고, 연구가설 채택여부를 검정하시오."
   ]
  },
  {
   "cell_type": "code",
   "execution_count": 4,
   "id": "f9e3b6a8",
   "metadata": {
    "scrolled": true
   },
   "outputs": [
    {
     "data": {
      "text/plain": [
       "Ttest_relResult(statistic=3.3526056764717995, pvalue=0.028499777234053288)"
      ]
     },
     "execution_count": 4,
     "metadata": {},
     "output_type": "execute_result"
    }
   ],
   "source": [
    "# 강은 동일하나 처리만 바뀐 경우 (상류, 하류)\n",
    "\n",
    "#대응표본 검정 \n",
    "\n",
    "import scipy.stats as stats\n",
    "\n",
    "\n",
    "stats.ttest_rel(df['up'],df['down']) ## default two-sided\n",
    "\n",
    "## 유의 수준 0.1 \n",
    "## 정규성이 만족한다고 가정한다. "
   ]
  },
  {
   "cell_type": "markdown",
   "id": "469d56da",
   "metadata": {},
   "source": [
    "## p-value가 0.1보다 작으므로, 유의수준 0.1 하에서 귀무가설 기각한다.  \n",
    "\n",
    "### 즉, 상 - 하류간 다양성에는 유의미한 차이가 있다고 할 수 있다. \n"
   ]
  },
  {
   "cell_type": "code",
   "execution_count": 5,
   "id": "66892319",
   "metadata": {},
   "outputs": [
    {
     "data": {
      "text/plain": [
       "WilcoxonResult(statistic=0.0, pvalue=0.0625)"
      ]
     },
     "execution_count": 5,
     "metadata": {},
     "output_type": "execute_result"
    }
   ],
   "source": [
    "stats.wilcoxon(df['up'],df['down'])"
   ]
  },
  {
   "cell_type": "code",
   "execution_count": null,
   "id": "18a21d0e",
   "metadata": {},
   "outputs": [],
   "source": []
  }
 ],
 "metadata": {
  "kernelspec": {
   "display_name": "Python 3 (ipykernel)",
   "language": "python",
   "name": "python3"
  },
  "language_info": {
   "codemirror_mode": {
    "name": "ipython",
    "version": 3
   },
   "file_extension": ".py",
   "mimetype": "text/x-python",
   "name": "python",
   "nbconvert_exporter": "python",
   "pygments_lexer": "ipython3",
   "version": "3.7.12"
  },
  "toc": {
   "base_numbering": 1,
   "nav_menu": {},
   "number_sections": false,
   "sideBar": true,
   "skip_h1_title": false,
   "title_cell": "Table of Contents",
   "title_sidebar": "Contents",
   "toc_cell": false,
   "toc_position": {},
   "toc_section_display": true,
   "toc_window_display": false
  }
 },
 "nbformat": 4,
 "nbformat_minor": 5
}
