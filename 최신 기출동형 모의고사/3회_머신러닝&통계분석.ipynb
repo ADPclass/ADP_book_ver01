{
 "cells": [
  {
   "cell_type": "markdown",
   "id": "f4987147",
   "metadata": {},
   "source": [
    "## 최신 기출동형 모의고사 - 제3회 기출동형 모의고사\n",
    "### 1. 머신러닝 (50점)"
   ]
  },
  {
   "cell_type": "markdown",
   "id": "beb529b1",
   "metadata": {},
   "source": [
    "#### (1) 데이터를 탐색하고 탐색 결과를 제시하시오."
   ]
  },
  {
   "cell_type": "code",
   "execution_count": 1,
   "id": "d629ade7",
   "metadata": {},
   "outputs": [
    {
     "data": {
      "text/plain": [
       "is_canceled                          0\n",
       "deposit_type                         0\n",
       "lead_time                            5\n",
       "stays_in_weekend_nights              0\n",
       "stays_in_week_nights                 0\n",
       "is_repeated_guest                  358\n",
       "previous_cancellations               0\n",
       "previous_bookings_not_canceled       0\n",
       "booking_changes                      0\n",
       "days_in_waiting_list                 0\n",
       "adr                               1063\n",
       "dtype: int64"
      ]
     },
     "execution_count": 1,
     "metadata": {},
     "output_type": "execute_result"
    }
   ],
   "source": [
    "import pandas as pd\n",
    "import numpy as np \n",
    "hotel = pd.read_csv('../data/hotel_bookings.csv')\n",
    "hotel\n",
    "\n",
    "# 결측치 확인\n",
    "hotel.isna().sum()"
   ]
  },
  {
   "cell_type": "code",
   "execution_count": 2,
   "id": "49571de2",
   "metadata": {},
   "outputs": [
    {
     "name": "stdout",
     "output_type": "stream",
     "text": [
      "<class 'pandas.core.frame.DataFrame'>\n",
      "RangeIndex: 20000 entries, 0 to 19999\n",
      "Data columns (total 11 columns):\n",
      " #   Column                          Non-Null Count  Dtype  \n",
      "---  ------                          --------------  -----  \n",
      " 0   is_canceled                     20000 non-null  int64  \n",
      " 1   deposit_type                    20000 non-null  object \n",
      " 2   lead_time                       19995 non-null  float64\n",
      " 3   stays_in_weekend_nights         20000 non-null  int64  \n",
      " 4   stays_in_week_nights            20000 non-null  int64  \n",
      " 5   is_repeated_guest               19642 non-null  float64\n",
      " 6   previous_cancellations          20000 non-null  int64  \n",
      " 7   previous_bookings_not_canceled  20000 non-null  int64  \n",
      " 8   booking_changes                 20000 non-null  int64  \n",
      " 9   days_in_waiting_list            20000 non-null  int64  \n",
      " 10  adr                             18937 non-null  float64\n",
      "dtypes: float64(3), int64(7), object(1)\n",
      "memory usage: 1.7+ MB\n"
     ]
    }
   ],
   "source": [
    "hotel.info()"
   ]
  },
  {
   "cell_type": "code",
   "execution_count": 3,
   "id": "b219f84a",
   "metadata": {},
   "outputs": [
    {
     "data": {
      "text/plain": [
       "count          20000\n",
       "unique             3\n",
       "top       No Deposit\n",
       "freq           19138\n",
       "Name: deposit_type, dtype: object"
      ]
     },
     "execution_count": 3,
     "metadata": {},
     "output_type": "execute_result"
    }
   ],
   "source": [
    "hotel.deposit_type.describe()"
   ]
  },
  {
   "cell_type": "code",
   "execution_count": 4,
   "id": "5f48d237",
   "metadata": {},
   "outputs": [
    {
     "data": {
      "text/plain": [
       "deposit_type\n",
       "No Deposit    101.965190\n",
       "Non Refund     89.689476\n",
       "Refundable     67.456154\n",
       "Name: adr, dtype: float64"
      ]
     },
     "execution_count": 4,
     "metadata": {},
     "output_type": "execute_result"
    }
   ],
   "source": [
    "hotel.groupby(hotel['deposit_type']).mean()['adr']"
   ]
  },
  {
   "cell_type": "markdown",
   "id": "99ab3cfe",
   "metadata": {},
   "source": [
    "#### (2) 결측치를 탐색하고 대체 방법 및 근거를 제시하시오."
   ]
  },
  {
   "cell_type": "code",
   "execution_count": 5,
   "id": "a2165dee",
   "metadata": {},
   "outputs": [
    {
     "data": {
      "text/plain": [
       "is_canceled                          0\n",
       "deposit_type                         0\n",
       "lead_time                            5\n",
       "stays_in_weekend_nights              0\n",
       "stays_in_week_nights                 0\n",
       "is_repeated_guest                  358\n",
       "previous_cancellations               0\n",
       "previous_bookings_not_canceled       0\n",
       "booking_changes                      0\n",
       "days_in_waiting_list                 0\n",
       "adr                               1063\n",
       "dtype: int64"
      ]
     },
     "execution_count": 5,
     "metadata": {},
     "output_type": "execute_result"
    }
   ],
   "source": [
    "# 결측치 확인\n",
    "hotel.isna().sum()"
   ]
  },
  {
   "cell_type": "code",
   "execution_count": 6,
   "id": "10a07637",
   "metadata": {},
   "outputs": [
    {
     "name": "stdout",
     "output_type": "stream",
     "text": [
      "lead time 결측치 비율: 0.03%\n",
      "is repeated guest 결측치 비율: 1.79%\n",
      "adr 결측치 비율: 5.32%\n"
     ]
    }
   ],
   "source": [
    "#결측치 비율 확인\n",
    "print('lead time 결측치 비율: {}%'.format(round(5 /len(hotel)*100, 2)))\n",
    "print('is repeated guest 결측치 비율: {}%'.format(round(358/len(hotel)*100, 2)))\n",
    "print('adr 결측치 비율: {}%'.format(round(1063 /len(hotel)*100, 2)))"
   ]
  },
  {
   "cell_type": "code",
   "execution_count": 7,
   "id": "54feacaa",
   "metadata": {},
   "outputs": [
    {
     "data": {
      "text/plain": [
       "is_canceled                       0\n",
       "deposit_type                      0\n",
       "lead_time                         0\n",
       "stays_in_weekend_nights           0\n",
       "stays_in_week_nights              0\n",
       "is_repeated_guest                 0\n",
       "previous_cancellations            0\n",
       "previous_bookings_not_canceled    0\n",
       "booking_changes                   0\n",
       "days_in_waiting_list              0\n",
       "adr                               0\n",
       "dtype: int64"
      ]
     },
     "execution_count": 7,
     "metadata": {},
     "output_type": "execute_result"
    }
   ],
   "source": [
    "hotel_nonull=hotel\n",
    "## lead time 변수의 결측치는 1%가 되지 않음\n",
    "## 제거한다\n",
    "hotel_nonull.dropna(subset=['lead_time'], axis =0, inplace =True)\n",
    "\n",
    "## is_repeated_guest 변수는 binary이기 때문에\n",
    "## 최빈값으로 대체한다\n",
    "hotel_nonull['is_repeated_guest'].fillna(0)\n",
    "\n",
    "## adr 변수는 연속형 변수이기 때문에 평균대치법을 사용한다.\n",
    "## 다만, 보증금 유형에 따라 adr이 다르기 때문에\n",
    "## adr그룹별 평균을 이용해 결측값을 대체한다.\n",
    "fill_mean_func = lambda g: g.fillna(g.mean())\n",
    "hotel_nonull=hotel_nonull.groupby('deposit_type').apply(fill_mean_func)\n",
    "\n",
    "hotel_nonull.index =hotel_nonull.index.droplevel(0 )\n",
    "hotel_nonull.sort_index(inplace =True )\n",
    "\n",
    "hotel_nonull.isna().sum()"
   ]
  },
  {
   "cell_type": "markdown",
   "id": "525ac6ff",
   "metadata": {},
   "source": [
    "#### (4) 데이터 불균형을 시각화하여 식별하고 불균형 판단근거를 작성하시오."
   ]
  },
  {
   "cell_type": "code",
   "execution_count": 8,
   "id": "98acad5d",
   "metadata": {},
   "outputs": [
    {
     "data": {
      "image/png": "[encoded data removed]",
      "text/plain": [
       "<Figure size 432x288 with 1 Axes>"
      ]
     },
     "metadata": {
      "needs_background": "light"
     },
     "output_type": "display_data"
    },
    {
     "name": "stdout",
     "output_type": "stream",
     "text": [
      "0 비율: 88.0%\n",
      "1 비율: 12.0%\n"
     ]
    }
   ],
   "source": [
    "import seaborn as sns\n",
    "import matplotlib.pyplot as plt\n",
    "from matplotlib import font_manager, rc\n",
    "font_path ='C:/Windows/Fonts/NGULIM.TTF'\n",
    "font = font_manager.FontProperties(fname =font_path).get_name()\n",
    "rc('font', family =font)\n",
    "\n",
    "sns.countplot(x='is_canceled', data =hotel_nonull)\n",
    "plt.title('데이터 불균형 시각화', fontsize =14)\n",
    "plt.show()\n",
    "ratio0 = round(len(hotel_nonull[hotel_nonull['is_canceled']==0])/len(hotel_nonull)*100, 2)\n",
    "ratio1 = round(len(hotel_nonull[hotel_nonull['is_canceled']==1])/len(hotel_nonull)*100, 2)\n",
    "print('0 비율: {}%'.format(ratio0))\n",
    "print('1 비율: {}%'.format(ratio1))"
   ]
  },
  {
   "cell_type": "markdown",
   "id": "2f1c98bd",
   "metadata": {},
   "source": [
    "#### (6) 기법을 선정한 이유를 작성하고, 원데이터를 포함해 3개의 데이터 세트를 구성하시오."
   ]
  },
  {
   "cell_type": "code",
   "execution_count": 9,
   "id": "8d1b01f9",
   "metadata": {},
   "outputs": [
    {
     "name": "stdout",
     "output_type": "stream",
     "text": [
      "time : 0.03690505027770996\n"
     ]
    }
   ],
   "source": [
    "# 먼저 hotel_null 데이터의 object 형태 변수를 one_hot_encoding함\n",
    "hotel_nonull=pd.get_dummies(hotel_nonull)\n",
    "\n",
    "from imblearn.over_sampling import RandomOverSampler, SMOTE\n",
    "import time\n",
    "# 원본 데이터 (hotel_nonull)\n",
    "X = hotel_nonull[hotel_nonull.columns.difference(['is_canceled'])]\n",
    "y = hotel_nonull['is_canceled']\n",
    "\n",
    "start = time.time() # 시작 시간 저장\n",
    "# Random Oversampling\n",
    "ros = RandomOverSampler(random_state =42)\n",
    "X_ro, y_ro = ros.fit_resample(X, y)\n",
    "print('time :', time.time() - start) # 현재시각 - 시작시간 = 실행 시간"
   ]
  },
  {
   "cell_type": "code",
   "execution_count": 10,
   "id": "a2ce0625",
   "metadata": {},
   "outputs": [
    {
     "name": "stdout",
     "output_type": "stream",
     "text": [
      "time : 0.04089760780334473\n"
     ]
    }
   ],
   "source": [
    "start = time.time() # 시작 시간 저장\n",
    "# SMOTE\n",
    "sm = SMOTE(random_state =42)\n",
    "X_sm, y_sm = ros.fit_resample(X, y)\n",
    "print('time :', time.time() - start) # 현재시각 - 시작시간 = 실행 시간"
   ]
  },
  {
   "cell_type": "markdown",
   "id": "ceeeb94c",
   "metadata": {},
   "source": [
    "#### (7) 오버 샘플링 데이터와 원데이터를 사용해 정확도 측면 모델 하나와 속도 측면의 모델 하나를 선정하고, 그 이유를 설명하시오."
   ]
  },
  {
   "cell_type": "code",
   "execution_count": 11,
   "id": "1f5ea3f5",
   "metadata": {},
   "outputs": [
    {
     "name": "stdout",
     "output_type": "stream",
     "text": [
      "train 정확도 : 0.933545886471618 \n",
      "\n",
      "              precision    recall  f1-score   support\n",
      "\n",
      "           0       0.93      1.00      0.96      3519\n",
      "           1       0.98      0.44      0.61       480\n",
      "\n",
      "    accuracy                           0.93      3999\n",
      "   macro avg       0.95      0.72      0.78      3999\n",
      "weighted avg       0.93      0.93      0.92      3999\n",
      "\n",
      "time : 1.8048958778381348\n"
     ]
    }
   ],
   "source": [
    "from sklearn.model_selection import train_test_split\n",
    "from sklearn.ensemble import RandomForestClassifier\n",
    "from sklearn.metrics import classification_report\n",
    "\n",
    "start = time.time() # 시작 시간 저장\n",
    "X_train, X_test, y_train, y_test = train_test_split(X, y, test_size =0.2, stratify =y, random_state =100)\n",
    "clf = RandomForestClassifier(n_estimators =100, min_samples_split =10)\n",
    "clf.fit(X_train, y_train)\n",
    "print('train 정확도 :', clf.score(X_train, y_train), '\\n')\n",
    "pred=clf.predict(X_test)\n",
    "print(classification_report(y_test, pred))\n",
    "print('time :', time.time() - start) # 현재시각 - 시작시간 = 실행 시간"
   ]
  },
  {
   "cell_type": "code",
   "execution_count": 12,
   "id": "be748666",
   "metadata": {},
   "outputs": [
    {
     "name": "stdout",
     "output_type": "stream",
     "text": [
      "train 정확도 : 0.9849744245524297 \n",
      "\n",
      "              precision    recall  f1-score   support\n",
      "\n",
      "           0       0.97      0.93      0.95      3519\n",
      "           1       0.93      0.98      0.95      3519\n",
      "\n",
      "    accuracy                           0.95      7038\n",
      "   macro avg       0.95      0.95      0.95      7038\n",
      "weighted avg       0.95      0.95      0.95      7038\n",
      "\n",
      "time : 3.1495416164398193\n"
     ]
    }
   ],
   "source": [
    "start = time.time() # 시작 시간 저장\n",
    "X_ro_train, X_ro_test, y_ro_train, y_ro_test = train_test_split(X_ro, y_ro, test_size =0.2, stratify =y_ro, random_state =100)\n",
    "clf_ro = RandomForestClassifier(n_estimators =100, min_samples_split=10, random_state =100)\n",
    "clf_ro.fit(X_ro_train, y_ro_train)\n",
    "print('train 정확도 :', clf_ro.score(X_ro_train, y_ro_train), '\\n')\n",
    "pred_ro=clf_ro.predict(X_ro_test)\n",
    "print(classification_report(y_ro_test, pred_ro))\n",
    "print('time :', time.time() - start) # 현재시각 - 시작시간 = 실행 시간"
   ]
  },
  {
   "cell_type": "code",
   "execution_count": 13,
   "id": "869ba947",
   "metadata": {},
   "outputs": [
    {
     "name": "stdout",
     "output_type": "stream",
     "text": [
      "train 정확도 : 0.9849744245524297 \n",
      "\n",
      "              precision    recall  f1-score   support\n",
      "\n",
      "           0       0.97      0.93      0.95      3519\n",
      "           1       0.93      0.98      0.95      3519\n",
      "\n",
      "    accuracy                           0.95      7038\n",
      "   macro avg       0.95      0.95      0.95      7038\n",
      "weighted avg       0.95      0.95      0.95      7038\n",
      "\n",
      "time : 2.953019618988037\n"
     ]
    }
   ],
   "source": [
    "start = time.time() # 시작 시간 저장\n",
    "X_sm_train, X_sm_test, y_sm_train, y_sm_test = train_test_split(X_sm, y_sm, test_size =0.2, stratify =y_sm, random_state =100)\n",
    "clf_sm = RandomForestClassifier(n_estimators =100, min_samples_split=10, random_state =100)\n",
    "clf_sm.fit(X_sm_train, y_sm_train)\n",
    "print('train 정확도 :', clf_sm.score(X_sm_train, y_sm_train), '\\n')\n",
    "pred_sm=clf_sm.predict(X_sm_test)\n",
    "print(classification_report(y_sm_test, pred_sm))\n",
    "print('time :', time.time() - start) # 현재시각 - 시작시간 = 실행 시간"
   ]
  },
  {
   "cell_type": "code",
   "execution_count": 14,
   "id": "edac766c",
   "metadata": {},
   "outputs": [
    {
     "name": "stdout",
     "output_type": "stream",
     "text": [
      "원본 데이터세트의 모델링 수행속도:  \t 1.7477023601531982\n",
      "RO 데이터세트의 모델링 수행속도:  \t 3.053262233734131\n",
      "SMOTE 데이터세트의 모델링 수행속도:  \t 3.2734808921813965\n"
     ]
    }
   ],
   "source": [
    "raw=0 +1.7477023601531982\n",
    "ro=0.03391218185424805+3.019350051879883\n",
    "sm=0.0389096736907959+3.2345712184906006\n",
    "print('원본 데이터세트의 모델링 수행속도: ','\\t', raw)\n",
    "print('RO 데이터세트의 모델링 수행속도: ','\\t', ro)\n",
    "print('SMOTE 데이터세트의 모델링 수행속도: ','\\t', sm) "
   ]
  },
  {
   "cell_type": "markdown",
   "id": "749a3214",
   "metadata": {},
   "source": [
    "### 2. 통계분석 (50점)"
   ]
  },
  {
   "cell_type": "markdown",
   "id": "711ad498",
   "metadata": {},
   "source": [
    "#### 1. 공장에서는 시제품의 농도(%)가 60이라고 주장하며 품질관리팀에서 10개의 샘플을 뽑았다. 유의수준 5%에서 다음을 검정하시오."
   ]
  },
  {
   "cell_type": "code",
   "execution_count": 15,
   "id": "ef8e2f35",
   "metadata": {},
   "outputs": [
    {
     "name": "stdout",
     "output_type": "stream",
     "text": [
      "17.434448657758008\n"
     ]
    }
   ],
   "source": [
    "x =[52 ,50 ,62 ,75 ,26 ,45 ,62 ,35 ,57 ,14 ]\n",
    "\n",
    "import numpy as np\n",
    "moe=5\n",
    "a=0.05\n",
    "std = np.std(x)\n",
    "print(std)"
   ]
  },
  {
   "cell_type": "code",
   "execution_count": 16,
   "id": "93ef7e26",
   "metadata": {},
   "outputs": [
    {
     "data": {
      "text/plain": [
       "40.85590828532381"
      ]
     },
     "execution_count": 16,
     "metadata": {},
     "output_type": "execute_result"
    }
   ],
   "source": [
    "from scipy import stats\n",
    "(stats.t.ppf(q =.05 ,df =9 )*std /5 )**2"
   ]
  },
  {
   "cell_type": "code",
   "execution_count": 17,
   "id": "174b6997",
   "metadata": {},
   "outputs": [
    {
     "data": {
      "text/plain": [
       "WilcoxonResult(statistic=9.5, pvalue=0.064453125)"
      ]
     },
     "execution_count": 17,
     "metadata": {},
     "output_type": "execute_result"
    }
   ],
   "source": [
    "from scipy import stats\n",
    "stats.wilcoxon(pd.Series(x)-60)"
   ]
  },
  {
   "cell_type": "markdown",
   "id": "56dc17f7",
   "metadata": {},
   "source": [
    "#### 2. 코로나 시계열 데이터로 다음을 수행하시오."
   ]
  },
  {
   "cell_type": "code",
   "execution_count": 18,
   "id": "a5d37219",
   "metadata": {},
   "outputs": [
    {
     "name": "stdout",
     "output_type": "stream",
     "text": [
      "           날짜    종로구     중구    용산구    성동구    광진구   동대문구     중랑구     성북구  \\\n",
      "0  2022-03-30  37261  33753  55376  81018  96008  95433  103288  116862   \n",
      "1  2022-03-29  36216  32835  53872  79030  93474  92993  100255  113609   \n",
      "2  2022-03-28  35276  31878  52391  76802  91030  90277   97419  110583   \n",
      "3  2022-03-27  34879  31577  51652  76108  89876  89302   96359  109500   \n",
      "4  2022-03-26  34061  30903  50720  74178  87770  87345   93690  106437   \n",
      "\n",
      "     강북구  ...     강서구     구로구    금천구    영등포구     동작구     관악구     서초구     강남구  \\\n",
      "0  75118  ...  148359  109973  63687  110293  106238  132305  104368  136200   \n",
      "1  72934  ...  143573  106162  61840  106171  102955  127626  100529  132333   \n",
      "2  70754  ...  139633  103573  59946  104109  100665  124805   98869  128813   \n",
      "3  70003  ...  137908  102610  59393  102916   99426  123374   96873  126296   \n",
      "4  68329  ...  134285   99938  57925  100349   96989  120413   95124  123992   \n",
      "\n",
      "      송파구     강동구  \n",
      "0  176765  121926  \n",
      "1  172292  118842  \n",
      "2  167386  115846  \n",
      "3  165373  113549  \n",
      "4  161650  110649  \n",
      "\n",
      "[5 rows x 26 columns]\n"
     ]
    }
   ],
   "source": [
    "import pandas as pd\n",
    "covid = pd.read_csv('../data/서울특별시 코로나19.csv')\n",
    "print (covid.head())\n",
    "covid1 = covid[covid.columns.difference(['날짜'])]"
   ]
  },
  {
   "cell_type": "code",
   "execution_count": 19,
   "id": "a9e97862",
   "metadata": {},
   "outputs": [
    {
     "data": {
      "text/html": [
       "<div>\n",
       "<style scoped>\n",
       "    .dataframe tbody tr th:only-of-type {\n",
       "        vertical-align: middle;\n",
       "    }\n",
       "\n",
       "    .dataframe tbody tr th {\n",
       "        vertical-align: top;\n",
       "    }\n",
       "\n",
       "    .dataframe thead th {\n",
       "        text-align: right;\n",
       "    }\n",
       "</style>\n",
       "<table border=\"1\" class=\"dataframe\">\n",
       "  <thead>\n",
       "    <tr style=\"text-align: right;\">\n",
       "      <th></th>\n",
       "      <th>강남구</th>\n",
       "      <th>강동구</th>\n",
       "      <th>강북구</th>\n",
       "      <th>강서구</th>\n",
       "      <th>관악구</th>\n",
       "      <th>광진구</th>\n",
       "      <th>구로구</th>\n",
       "      <th>금천구</th>\n",
       "      <th>노원구</th>\n",
       "      <th>도봉구</th>\n",
       "      <th>...</th>\n",
       "      <th>성동구</th>\n",
       "      <th>성북구</th>\n",
       "      <th>송파구</th>\n",
       "      <th>양천구</th>\n",
       "      <th>영등포구</th>\n",
       "      <th>용산구</th>\n",
       "      <th>은평구</th>\n",
       "      <th>종로구</th>\n",
       "      <th>중구</th>\n",
       "      <th>중랑구</th>\n",
       "    </tr>\n",
       "  </thead>\n",
       "  <tbody>\n",
       "    <tr>\n",
       "      <th>0</th>\n",
       "      <td>1.000000</td>\n",
       "      <td>1.000000</td>\n",
       "      <td>1.000000</td>\n",
       "      <td>1.000000</td>\n",
       "      <td>1.000000</td>\n",
       "      <td>1.000000</td>\n",
       "      <td>1.000000</td>\n",
       "      <td>1.000000</td>\n",
       "      <td>1.000000</td>\n",
       "      <td>1.000000</td>\n",
       "      <td>...</td>\n",
       "      <td>1.000000</td>\n",
       "      <td>1.000000</td>\n",
       "      <td>1.000000</td>\n",
       "      <td>1.000000</td>\n",
       "      <td>1.000000</td>\n",
       "      <td>1.000000</td>\n",
       "      <td>1.000000</td>\n",
       "      <td>1.000000</td>\n",
       "      <td>1.000000</td>\n",
       "      <td>1.000000</td>\n",
       "    </tr>\n",
       "    <tr>\n",
       "      <th>1</th>\n",
       "      <td>0.965594</td>\n",
       "      <td>0.964788</td>\n",
       "      <td>0.964873</td>\n",
       "      <td>0.963102</td>\n",
       "      <td>0.964599</td>\n",
       "      <td>0.965118</td>\n",
       "      <td>0.964896</td>\n",
       "      <td>0.964495</td>\n",
       "      <td>0.962739</td>\n",
       "      <td>0.964677</td>\n",
       "      <td>...</td>\n",
       "      <td>0.964843</td>\n",
       "      <td>0.964386</td>\n",
       "      <td>0.965216</td>\n",
       "      <td>0.963406</td>\n",
       "      <td>0.964211</td>\n",
       "      <td>0.965807</td>\n",
       "      <td>0.963757</td>\n",
       "      <td>0.965624</td>\n",
       "      <td>0.966025</td>\n",
       "      <td>0.964429</td>\n",
       "    </tr>\n",
       "    <tr>\n",
       "      <th>2</th>\n",
       "      <td>0.931913</td>\n",
       "      <td>0.930000</td>\n",
       "      <td>0.930425</td>\n",
       "      <td>0.927079</td>\n",
       "      <td>0.930349</td>\n",
       "      <td>0.930705</td>\n",
       "      <td>0.930870</td>\n",
       "      <td>0.929726</td>\n",
       "      <td>0.926474</td>\n",
       "      <td>0.930168</td>\n",
       "      <td>...</td>\n",
       "      <td>0.930035</td>\n",
       "      <td>0.929349</td>\n",
       "      <td>0.930854</td>\n",
       "      <td>0.927777</td>\n",
       "      <td>0.929708</td>\n",
       "      <td>0.932148</td>\n",
       "      <td>0.928512</td>\n",
       "      <td>0.932172</td>\n",
       "      <td>0.932933</td>\n",
       "      <td>0.929547</td>\n",
       "    </tr>\n",
       "    <tr>\n",
       "      <th>3</th>\n",
       "      <td>0.898790</td>\n",
       "      <td>0.895648</td>\n",
       "      <td>0.896665</td>\n",
       "      <td>0.891603</td>\n",
       "      <td>0.896316</td>\n",
       "      <td>0.896734</td>\n",
       "      <td>0.897198</td>\n",
       "      <td>0.895662</td>\n",
       "      <td>0.890730</td>\n",
       "      <td>0.895849</td>\n",
       "      <td>...</td>\n",
       "      <td>0.895739</td>\n",
       "      <td>0.894822</td>\n",
       "      <td>0.897147</td>\n",
       "      <td>0.892371</td>\n",
       "      <td>0.895164</td>\n",
       "      <td>0.899075</td>\n",
       "      <td>0.893408</td>\n",
       "      <td>0.899077</td>\n",
       "      <td>0.900435</td>\n",
       "      <td>0.895251</td>\n",
       "    </tr>\n",
       "    <tr>\n",
       "      <th>4</th>\n",
       "      <td>0.865697</td>\n",
       "      <td>0.861294</td>\n",
       "      <td>0.862291</td>\n",
       "      <td>0.855502</td>\n",
       "      <td>0.861660</td>\n",
       "      <td>0.862274</td>\n",
       "      <td>0.862796</td>\n",
       "      <td>0.860914</td>\n",
       "      <td>0.854712</td>\n",
       "      <td>0.861332</td>\n",
       "      <td>...</td>\n",
       "      <td>0.860691</td>\n",
       "      <td>0.859554</td>\n",
       "      <td>0.862857</td>\n",
       "      <td>0.856622</td>\n",
       "      <td>0.860051</td>\n",
       "      <td>0.865682</td>\n",
       "      <td>0.858069</td>\n",
       "      <td>0.865542</td>\n",
       "      <td>0.867391</td>\n",
       "      <td>0.860302</td>\n",
       "    </tr>\n",
       "    <tr>\n",
       "      <th>...</th>\n",
       "      <td>...</td>\n",
       "      <td>...</td>\n",
       "      <td>...</td>\n",
       "      <td>...</td>\n",
       "      <td>...</td>\n",
       "      <td>...</td>\n",
       "      <td>...</td>\n",
       "      <td>...</td>\n",
       "      <td>...</td>\n",
       "      <td>...</td>\n",
       "      <td>...</td>\n",
       "      <td>...</td>\n",
       "      <td>...</td>\n",
       "      <td>...</td>\n",
       "      <td>...</td>\n",
       "      <td>...</td>\n",
       "      <td>...</td>\n",
       "      <td>...</td>\n",
       "      <td>...</td>\n",
       "      <td>...</td>\n",
       "      <td>...</td>\n",
       "    </tr>\n",
       "    <tr>\n",
       "      <th>780</th>\n",
       "      <td>-0.016955</td>\n",
       "      <td>-0.015228</td>\n",
       "      <td>-0.015857</td>\n",
       "      <td>-0.015340</td>\n",
       "      <td>-0.016273</td>\n",
       "      <td>-0.015231</td>\n",
       "      <td>-0.016170</td>\n",
       "      <td>-0.015477</td>\n",
       "      <td>-0.015416</td>\n",
       "      <td>-0.015638</td>\n",
       "      <td>...</td>\n",
       "      <td>-0.015171</td>\n",
       "      <td>-0.015739</td>\n",
       "      <td>-0.015392</td>\n",
       "      <td>-0.015053</td>\n",
       "      <td>-0.016447</td>\n",
       "      <td>-0.017232</td>\n",
       "      <td>-0.015876</td>\n",
       "      <td>-0.017175</td>\n",
       "      <td>-0.017212</td>\n",
       "      <td>-0.016019</td>\n",
       "    </tr>\n",
       "    <tr>\n",
       "      <th>781</th>\n",
       "      <td>-0.013717</td>\n",
       "      <td>-0.012334</td>\n",
       "      <td>-0.012831</td>\n",
       "      <td>-0.012420</td>\n",
       "      <td>-0.013163</td>\n",
       "      <td>-0.012320</td>\n",
       "      <td>-0.013083</td>\n",
       "      <td>-0.012523</td>\n",
       "      <td>-0.012501</td>\n",
       "      <td>-0.012644</td>\n",
       "      <td>...</td>\n",
       "      <td>-0.012270</td>\n",
       "      <td>-0.012738</td>\n",
       "      <td>-0.012449</td>\n",
       "      <td>-0.012183</td>\n",
       "      <td>-0.013303</td>\n",
       "      <td>-0.013929</td>\n",
       "      <td>-0.012845</td>\n",
       "      <td>-0.013889</td>\n",
       "      <td>-0.013915</td>\n",
       "      <td>-0.012970</td>\n",
       "    </tr>\n",
       "    <tr>\n",
       "      <th>782</th>\n",
       "      <td>-0.010415</td>\n",
       "      <td>-0.009360</td>\n",
       "      <td>-0.009726</td>\n",
       "      <td>-0.009417</td>\n",
       "      <td>-0.009972</td>\n",
       "      <td>-0.009335</td>\n",
       "      <td>-0.009909</td>\n",
       "      <td>-0.009490</td>\n",
       "      <td>-0.009491</td>\n",
       "      <td>-0.009589</td>\n",
       "      <td>...</td>\n",
       "      <td>-0.009290</td>\n",
       "      <td>-0.009646</td>\n",
       "      <td>-0.009434</td>\n",
       "      <td>-0.009239</td>\n",
       "      <td>-0.010075</td>\n",
       "      <td>-0.010562</td>\n",
       "      <td>-0.009744</td>\n",
       "      <td>-0.010519</td>\n",
       "      <td>-0.010542</td>\n",
       "      <td>-0.009829</td>\n",
       "    </tr>\n",
       "    <tr>\n",
       "      <th>783</th>\n",
       "      <td>-0.007044</td>\n",
       "      <td>-0.006323</td>\n",
       "      <td>-0.006586</td>\n",
       "      <td>-0.006374</td>\n",
       "      <td>-0.006742</td>\n",
       "      <td>-0.006309</td>\n",
       "      <td>-0.006704</td>\n",
       "      <td>-0.006427</td>\n",
       "      <td>-0.006425</td>\n",
       "      <td>-0.006479</td>\n",
       "      <td>...</td>\n",
       "      <td>-0.006282</td>\n",
       "      <td>-0.006522</td>\n",
       "      <td>-0.006380</td>\n",
       "      <td>-0.006246</td>\n",
       "      <td>-0.006808</td>\n",
       "      <td>-0.007144</td>\n",
       "      <td>-0.006586</td>\n",
       "      <td>-0.007108</td>\n",
       "      <td>-0.007135</td>\n",
       "      <td>-0.006652</td>\n",
       "    </tr>\n",
       "    <tr>\n",
       "      <th>784</th>\n",
       "      <td>-0.003576</td>\n",
       "      <td>-0.003204</td>\n",
       "      <td>-0.003344</td>\n",
       "      <td>-0.003242</td>\n",
       "      <td>-0.003435</td>\n",
       "      <td>-0.003199</td>\n",
       "      <td>-0.003414</td>\n",
       "      <td>-0.003263</td>\n",
       "      <td>-0.003269</td>\n",
       "      <td>-0.003294</td>\n",
       "      <td>...</td>\n",
       "      <td>-0.003182</td>\n",
       "      <td>-0.003309</td>\n",
       "      <td>-0.003233</td>\n",
       "      <td>-0.003179</td>\n",
       "      <td>-0.003472</td>\n",
       "      <td>-0.003624</td>\n",
       "      <td>-0.003352</td>\n",
       "      <td>-0.003608</td>\n",
       "      <td>-0.003619</td>\n",
       "      <td>-0.003378</td>\n",
       "    </tr>\n",
       "  </tbody>\n",
       "</table>\n",
       "<p>785 rows × 25 columns</p>\n",
       "</div>"
      ],
      "text/plain": [
       "          강남구       강동구       강북구       강서구       관악구       광진구       구로구  \\\n",
       "0    1.000000  1.000000  1.000000  1.000000  1.000000  1.000000  1.000000   \n",
       "1    0.965594  0.964788  0.964873  0.963102  0.964599  0.965118  0.964896   \n",
       "2    0.931913  0.930000  0.930425  0.927079  0.930349  0.930705  0.930870   \n",
       "3    0.898790  0.895648  0.896665  0.891603  0.896316  0.896734  0.897198   \n",
       "4    0.865697  0.861294  0.862291  0.855502  0.861660  0.862274  0.862796   \n",
       "..        ...       ...       ...       ...       ...       ...       ...   \n",
       "780 -0.016955 -0.015228 -0.015857 -0.015340 -0.016273 -0.015231 -0.016170   \n",
       "781 -0.013717 -0.012334 -0.012831 -0.012420 -0.013163 -0.012320 -0.013083   \n",
       "782 -0.010415 -0.009360 -0.009726 -0.009417 -0.009972 -0.009335 -0.009909   \n",
       "783 -0.007044 -0.006323 -0.006586 -0.006374 -0.006742 -0.006309 -0.006704   \n",
       "784 -0.003576 -0.003204 -0.003344 -0.003242 -0.003435 -0.003199 -0.003414   \n",
       "\n",
       "          금천구       노원구       도봉구  ...       성동구       성북구       송파구  \\\n",
       "0    1.000000  1.000000  1.000000  ...  1.000000  1.000000  1.000000   \n",
       "1    0.964495  0.962739  0.964677  ...  0.964843  0.964386  0.965216   \n",
       "2    0.929726  0.926474  0.930168  ...  0.930035  0.929349  0.930854   \n",
       "3    0.895662  0.890730  0.895849  ...  0.895739  0.894822  0.897147   \n",
       "4    0.860914  0.854712  0.861332  ...  0.860691  0.859554  0.862857   \n",
       "..        ...       ...       ...  ...       ...       ...       ...   \n",
       "780 -0.015477 -0.015416 -0.015638  ... -0.015171 -0.015739 -0.015392   \n",
       "781 -0.012523 -0.012501 -0.012644  ... -0.012270 -0.012738 -0.012449   \n",
       "782 -0.009490 -0.009491 -0.009589  ... -0.009290 -0.009646 -0.009434   \n",
       "783 -0.006427 -0.006425 -0.006479  ... -0.006282 -0.006522 -0.006380   \n",
       "784 -0.003263 -0.003269 -0.003294  ... -0.003182 -0.003309 -0.003233   \n",
       "\n",
       "          양천구      영등포구       용산구       은평구       종로구        중구       중랑구  \n",
       "0    1.000000  1.000000  1.000000  1.000000  1.000000  1.000000  1.000000  \n",
       "1    0.963406  0.964211  0.965807  0.963757  0.965624  0.966025  0.964429  \n",
       "2    0.927777  0.929708  0.932148  0.928512  0.932172  0.932933  0.929547  \n",
       "3    0.892371  0.895164  0.899075  0.893408  0.899077  0.900435  0.895251  \n",
       "4    0.856622  0.860051  0.865682  0.858069  0.865542  0.867391  0.860302  \n",
       "..        ...       ...       ...       ...       ...       ...       ...  \n",
       "780 -0.015053 -0.016447 -0.017232 -0.015876 -0.017175 -0.017212 -0.016019  \n",
       "781 -0.012183 -0.013303 -0.013929 -0.012845 -0.013889 -0.013915 -0.012970  \n",
       "782 -0.009239 -0.010075 -0.010562 -0.009744 -0.010519 -0.010542 -0.009829  \n",
       "783 -0.006246 -0.006808 -0.007144 -0.006586 -0.007108 -0.007135 -0.006652  \n",
       "784 -0.003179 -0.003472 -0.003624 -0.003352 -0.003608 -0.003619 -0.003378  \n",
       "\n",
       "[785 rows x 25 columns]"
      ]
     },
     "execution_count": 19,
     "metadata": {},
     "output_type": "execute_result"
    }
   ],
   "source": [
    "import numpy as np\n",
    "import statsmodels.api as sm\n",
    "from statsmodels.tsa.arima_process import ArmaProcess\n",
    "def acf(x, n_lags):\n",
    "    return sm.tsa.stattools.acf(x, nlags =n_lags)\n",
    "\n",
    "# Max ACF lags\n",
    "n_lags =785\n",
    "lag_arr = np.repeat(n_lags, covid1.shape[1])\n",
    "acf_list = list(map(acf, covid1.transpose().to_numpy(), lag_arr))\n",
    "acf_df = pd.DataFrame(acf_list).transpose()\n",
    "acf_df.columns = covid1.columns\n",
    "\n",
    "acf_df"
   ]
  },
  {
   "cell_type": "code",
   "execution_count": 20,
   "id": "06d6ad64",
   "metadata": {},
   "outputs": [
    {
     "data": {
      "text/html": [
       "<div>\n",
       "<style scoped>\n",
       "    .dataframe tbody tr th:only-of-type {\n",
       "        vertical-align: middle;\n",
       "    }\n",
       "\n",
       "    .dataframe tbody tr th {\n",
       "        vertical-align: top;\n",
       "    }\n",
       "\n",
       "    .dataframe thead th {\n",
       "        text-align: right;\n",
       "    }\n",
       "</style>\n",
       "<table border=\"1\" class=\"dataframe\">\n",
       "  <thead>\n",
       "    <tr style=\"text-align: right;\">\n",
       "      <th></th>\n",
       "      <th>0</th>\n",
       "      <th>1</th>\n",
       "      <th>2</th>\n",
       "      <th>3</th>\n",
       "      <th>4</th>\n",
       "      <th>5</th>\n",
       "      <th>6</th>\n",
       "      <th>7</th>\n",
       "      <th>8</th>\n",
       "      <th>9</th>\n",
       "      <th>...</th>\n",
       "      <th>775</th>\n",
       "      <th>776</th>\n",
       "      <th>777</th>\n",
       "      <th>778</th>\n",
       "      <th>779</th>\n",
       "      <th>780</th>\n",
       "      <th>781</th>\n",
       "      <th>782</th>\n",
       "      <th>783</th>\n",
       "      <th>784</th>\n",
       "    </tr>\n",
       "  </thead>\n",
       "  <tbody>\n",
       "    <tr>\n",
       "      <th>강남구</th>\n",
       "      <td>1.0</td>\n",
       "      <td>0.965594</td>\n",
       "      <td>0.931913</td>\n",
       "      <td>0.898790</td>\n",
       "      <td>0.865697</td>\n",
       "      <td>0.832537</td>\n",
       "      <td>0.801510</td>\n",
       "      <td>0.769774</td>\n",
       "      <td>0.738757</td>\n",
       "      <td>0.709541</td>\n",
       "      <td>...</td>\n",
       "      <td>-0.031448</td>\n",
       "      <td>-0.028760</td>\n",
       "      <td>-0.025982</td>\n",
       "      <td>-0.023050</td>\n",
       "      <td>-0.020016</td>\n",
       "      <td>-0.016955</td>\n",
       "      <td>-0.013717</td>\n",
       "      <td>-0.010415</td>\n",
       "      <td>-0.007044</td>\n",
       "      <td>-0.003576</td>\n",
       "    </tr>\n",
       "    <tr>\n",
       "      <th>강동구</th>\n",
       "      <td>1.0</td>\n",
       "      <td>0.964788</td>\n",
       "      <td>0.930000</td>\n",
       "      <td>0.895648</td>\n",
       "      <td>0.861294</td>\n",
       "      <td>0.827337</td>\n",
       "      <td>0.794486</td>\n",
       "      <td>0.761769</td>\n",
       "      <td>0.729945</td>\n",
       "      <td>0.699790</td>\n",
       "      <td>...</td>\n",
       "      <td>-0.028260</td>\n",
       "      <td>-0.025833</td>\n",
       "      <td>-0.023348</td>\n",
       "      <td>-0.020731</td>\n",
       "      <td>-0.018012</td>\n",
       "      <td>-0.015228</td>\n",
       "      <td>-0.012334</td>\n",
       "      <td>-0.009360</td>\n",
       "      <td>-0.006323</td>\n",
       "      <td>-0.003204</td>\n",
       "    </tr>\n",
       "    <tr>\n",
       "      <th>강북구</th>\n",
       "      <td>1.0</td>\n",
       "      <td>0.964873</td>\n",
       "      <td>0.930425</td>\n",
       "      <td>0.896665</td>\n",
       "      <td>0.862291</td>\n",
       "      <td>0.828221</td>\n",
       "      <td>0.792955</td>\n",
       "      <td>0.759475</td>\n",
       "      <td>0.726817</td>\n",
       "      <td>0.695380</td>\n",
       "      <td>...</td>\n",
       "      <td>-0.029677</td>\n",
       "      <td>-0.027141</td>\n",
       "      <td>-0.024501</td>\n",
       "      <td>-0.021740</td>\n",
       "      <td>-0.018874</td>\n",
       "      <td>-0.015857</td>\n",
       "      <td>-0.012831</td>\n",
       "      <td>-0.009726</td>\n",
       "      <td>-0.006586</td>\n",
       "      <td>-0.003344</td>\n",
       "    </tr>\n",
       "    <tr>\n",
       "      <th>강서구</th>\n",
       "      <td>1.0</td>\n",
       "      <td>0.963102</td>\n",
       "      <td>0.927079</td>\n",
       "      <td>0.891603</td>\n",
       "      <td>0.855502</td>\n",
       "      <td>0.819774</td>\n",
       "      <td>0.785463</td>\n",
       "      <td>0.750681</td>\n",
       "      <td>0.716584</td>\n",
       "      <td>0.683842</td>\n",
       "      <td>...</td>\n",
       "      <td>-0.028518</td>\n",
       "      <td>-0.026075</td>\n",
       "      <td>-0.023540</td>\n",
       "      <td>-0.020883</td>\n",
       "      <td>-0.018134</td>\n",
       "      <td>-0.015340</td>\n",
       "      <td>-0.012420</td>\n",
       "      <td>-0.009417</td>\n",
       "      <td>-0.006374</td>\n",
       "      <td>-0.003242</td>\n",
       "    </tr>\n",
       "    <tr>\n",
       "      <th>관악구</th>\n",
       "      <td>1.0</td>\n",
       "      <td>0.964599</td>\n",
       "      <td>0.930349</td>\n",
       "      <td>0.896316</td>\n",
       "      <td>0.861660</td>\n",
       "      <td>0.827261</td>\n",
       "      <td>0.794470</td>\n",
       "      <td>0.761023</td>\n",
       "      <td>0.728057</td>\n",
       "      <td>0.696761</td>\n",
       "      <td>...</td>\n",
       "      <td>-0.030343</td>\n",
       "      <td>-0.027721</td>\n",
       "      <td>-0.025020</td>\n",
       "      <td>-0.022177</td>\n",
       "      <td>-0.019242</td>\n",
       "      <td>-0.016273</td>\n",
       "      <td>-0.013163</td>\n",
       "      <td>-0.009972</td>\n",
       "      <td>-0.006742</td>\n",
       "      <td>-0.003435</td>\n",
       "    </tr>\n",
       "  </tbody>\n",
       "</table>\n",
       "<p>5 rows × 785 columns</p>\n",
       "</div>"
      ],
      "text/plain": [
       "     0         1         2         3         4         5         6    \\\n",
       "강남구  1.0  0.965594  0.931913  0.898790  0.865697  0.832537  0.801510   \n",
       "강동구  1.0  0.964788  0.930000  0.895648  0.861294  0.827337  0.794486   \n",
       "강북구  1.0  0.964873  0.930425  0.896665  0.862291  0.828221  0.792955   \n",
       "강서구  1.0  0.963102  0.927079  0.891603  0.855502  0.819774  0.785463   \n",
       "관악구  1.0  0.964599  0.930349  0.896316  0.861660  0.827261  0.794470   \n",
       "\n",
       "          7         8         9    ...       775       776       777  \\\n",
       "강남구  0.769774  0.738757  0.709541  ... -0.031448 -0.028760 -0.025982   \n",
       "강동구  0.761769  0.729945  0.699790  ... -0.028260 -0.025833 -0.023348   \n",
       "강북구  0.759475  0.726817  0.695380  ... -0.029677 -0.027141 -0.024501   \n",
       "강서구  0.750681  0.716584  0.683842  ... -0.028518 -0.026075 -0.023540   \n",
       "관악구  0.761023  0.728057  0.696761  ... -0.030343 -0.027721 -0.025020   \n",
       "\n",
       "          778       779       780       781       782       783       784  \n",
       "강남구 -0.023050 -0.020016 -0.016955 -0.013717 -0.010415 -0.007044 -0.003576  \n",
       "강동구 -0.020731 -0.018012 -0.015228 -0.012334 -0.009360 -0.006323 -0.003204  \n",
       "강북구 -0.021740 -0.018874 -0.015857 -0.012831 -0.009726 -0.006586 -0.003344  \n",
       "강서구 -0.020883 -0.018134 -0.015340 -0.012420 -0.009417 -0.006374 -0.003242  \n",
       "관악구 -0.022177 -0.019242 -0.016273 -0.013163 -0.009972 -0.006742 -0.003435  \n",
       "\n",
       "[5 rows x 785 columns]"
      ]
     },
     "execution_count": 20,
     "metadata": {},
     "output_type": "execute_result"
    }
   ],
   "source": [
    "acf_df =acf_df.T\n",
    "acf_df.head()"
   ]
  },
  {
   "cell_type": "code",
   "execution_count": 21,
   "id": "38e105b1",
   "metadata": {},
   "outputs": [
    {
     "data": {
      "image/png": "[encoded data removed]",
      "text/plain": [
       "<Figure size 1080x360 with 1 Axes>"
      ]
     },
     "metadata": {
      "needs_background": "light"
     },
     "output_type": "display_data"
    }
   ],
   "source": [
    "import scipy.cluster.hierarchy as sch\n",
    "import matplotlib.pyplot as plt\n",
    "from matplotlib import font_manager, rc\n",
    "font_path ='C:/Windows/Fonts/NGULIM.TTF'\n",
    "font = font_manager.FontProperties(fname =font_path).get_name()\n",
    "rc('font', family =font)\n",
    "\n",
    "plt.figure(figsize=(15, 5))\n",
    "label = acf_df.index\n",
    "dend1=sch.linkage(acf_df, method ='average')\n",
    "cutoff =0.5 *max(dend1[:,2])\n",
    "dend_res1=sch.dendrogram(dend1, color_threshold=cutoff, labels=label)\n",
    "plt.show()"
   ]
  },
  {
   "cell_type": "markdown",
   "id": "0cb0427f",
   "metadata": {},
   "source": [
    "#### 3. 사회과학, 자연과학, 공학 세 개 학과의 평점조사표를 보고 학과와 성적이 관계있는지 검정하시오."
   ]
  },
  {
   "cell_type": "code",
   "execution_count": 22,
   "id": "3435c1de",
   "metadata": {},
   "outputs": [
    {
     "name": "stdout",
     "output_type": "stream",
     "text": [
      "         사회과학  자연과학  공학\n",
      "3.5~4.5    16    12  18\n",
      "2.5~3.5    30    20  13\n",
      "1.5~2.5    12     3  14\n"
     ]
    }
   ],
   "source": [
    "사회 = [16, 30, 12]\n",
    "자연 = [12, 20, 3]\n",
    "공학 = [18, 13, 14]\n",
    "table = pd.DataFrame({'사회과학': 사회,\n",
    "                     '자연과학': 자연,\n",
    "                     '공학': 공학},\n",
    "                     index=['3.5~4.5', '2.5~3.5', '1.5~2.5'])\n",
    "print (table)"
   ]
  },
  {
   "cell_type": "code",
   "execution_count": 23,
   "id": "46295614",
   "metadata": {},
   "outputs": [
    {
     "data": {
      "text/plain": [
       "(10.199441509990177,\n",
       " 0.03719883770303157,\n",
       " 4,\n",
       " array([[19.33333333, 11.66666667, 15.        ],\n",
       "        [26.47826087, 15.97826087, 20.54347826],\n",
       "        [12.1884058 ,  7.35507246,  9.45652174]]))"
      ]
     },
     "execution_count": 23,
     "metadata": {},
     "output_type": "execute_result"
    }
   ],
   "source": [
    "from scipy import stats\n",
    "stats.chi2_contingency(observed=table)"
   ]
  },
  {
   "cell_type": "code",
   "execution_count": null,
   "id": "71502aa6",
   "metadata": {},
   "outputs": [],
   "source": []
  }
 ],
 "metadata": {
  "kernelspec": {
   "display_name": "Python 3",
   "language": "python",
   "name": "python3"
  },
  "language_info": {
   "codemirror_mode": {
    "name": "ipython",
    "version": 3
   },
   "file_extension": ".py",
   "mimetype": "text/x-python",
   "name": "python",
   "nbconvert_exporter": "python",
   "pygments_lexer": "ipython3",
   "version": "3.7.6"
  }
 },
 "nbformat": 4,
 "nbformat_minor": 5
}
