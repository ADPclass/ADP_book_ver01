{
 "cells": [
  {
   "cell_type": "markdown",
   "id": "ba1d8106",
   "metadata": {},
   "source": [
    "# 8번\n",
    "user_counts를 종속변수로 하는 데이터이다\n",
    "\n",
    "1. 분위수 회귀분석 (Quantile Regression) 을 사용하여 회귀 계수를 구하시오. (반올림하여 소수점 아래 둘째자리까지 표기하시오.)\n",
    "\n",
    "2.  1의 모델의 회귀계수를 활용하여 \n",
    "temperature : 10.5 , wind : 8.2 ,precipitation : 3.5 일때 user_counts를 예측하시오\n"
   ]
  },
  {
   "cell_type": "code",
   "execution_count": 2,
   "id": "cc1dad34",
   "metadata": {
    "scrolled": false
   },
   "outputs": [
    {
     "data": {
      "text/html": [
       "<div>\n",
       "<style scoped>\n",
       "    .dataframe tbody tr th:only-of-type {\n",
       "        vertical-align: middle;\n",
       "    }\n",
       "\n",
       "    .dataframe tbody tr th {\n",
       "        vertical-align: top;\n",
       "    }\n",
       "\n",
       "    .dataframe thead th {\n",
       "        text-align: right;\n",
       "    }\n",
       "</style>\n",
       "<table border=\"1\" class=\"dataframe\">\n",
       "  <thead>\n",
       "    <tr style=\"text-align: right;\">\n",
       "      <th></th>\n",
       "      <th>temperature</th>\n",
       "      <th>wind</th>\n",
       "      <th>precipitation</th>\n",
       "      <th>user_counts</th>\n",
       "    </tr>\n",
       "  </thead>\n",
       "  <tbody>\n",
       "    <tr>\n",
       "      <th>0</th>\n",
       "      <td>10.400000</td>\n",
       "      <td>4.600000</td>\n",
       "      <td>0.844944</td>\n",
       "      <td>6368</td>\n",
       "    </tr>\n",
       "    <tr>\n",
       "      <th>1</th>\n",
       "      <td>5.666667</td>\n",
       "      <td>4.625000</td>\n",
       "      <td>0.040860</td>\n",
       "      <td>5902</td>\n",
       "    </tr>\n",
       "    <tr>\n",
       "      <th>2</th>\n",
       "      <td>4.933333</td>\n",
       "      <td>4.725000</td>\n",
       "      <td>0.008696</td>\n",
       "      <td>6226</td>\n",
       "    </tr>\n",
       "    <tr>\n",
       "      <th>3</th>\n",
       "      <td>3.400000</td>\n",
       "      <td>2.675000</td>\n",
       "      <td>0.156989</td>\n",
       "      <td>5829</td>\n",
       "    </tr>\n",
       "    <tr>\n",
       "      <th>4</th>\n",
       "      <td>8.900000</td>\n",
       "      <td>3.950000</td>\n",
       "      <td>7.988462</td>\n",
       "      <td>7589</td>\n",
       "    </tr>\n",
       "    <tr>\n",
       "      <th>...</th>\n",
       "      <td>...</td>\n",
       "      <td>...</td>\n",
       "      <td>...</td>\n",
       "      <td>...</td>\n",
       "    </tr>\n",
       "    <tr>\n",
       "      <th>2092</th>\n",
       "      <td>3.500000</td>\n",
       "      <td>2.100000</td>\n",
       "      <td>0.024096</td>\n",
       "      <td>5430</td>\n",
       "    </tr>\n",
       "    <tr>\n",
       "      <th>2093</th>\n",
       "      <td>8.233333</td>\n",
       "      <td>2.000000</td>\n",
       "      <td>16.843820</td>\n",
       "      <td>2125</td>\n",
       "    </tr>\n",
       "    <tr>\n",
       "      <th>2094</th>\n",
       "      <td>9.500000</td>\n",
       "      <td>3.666667</td>\n",
       "      <td>11.550575</td>\n",
       "      <td>6008</td>\n",
       "    </tr>\n",
       "    <tr>\n",
       "      <th>2095</th>\n",
       "      <td>4.800000</td>\n",
       "      <td>1.200000</td>\n",
       "      <td>0.104651</td>\n",
       "      <td>4929</td>\n",
       "    </tr>\n",
       "    <tr>\n",
       "      <th>2096</th>\n",
       "      <td>4.166667</td>\n",
       "      <td>1.466667</td>\n",
       "      <td>2.088235</td>\n",
       "      <td>2401</td>\n",
       "    </tr>\n",
       "  </tbody>\n",
       "</table>\n",
       "<p>2097 rows × 4 columns</p>\n",
       "</div>"
      ],
      "text/plain": [
       "      temperature      wind  precipitation  user_counts\n",
       "0       10.400000  4.600000       0.844944         6368\n",
       "1        5.666667  4.625000       0.040860         5902\n",
       "2        4.933333  4.725000       0.008696         6226\n",
       "3        3.400000  2.675000       0.156989         5829\n",
       "4        8.900000  3.950000       7.988462         7589\n",
       "...           ...       ...            ...          ...\n",
       "2092     3.500000  2.100000       0.024096         5430\n",
       "2093     8.233333  2.000000      16.843820         2125\n",
       "2094     9.500000  3.666667      11.550575         6008\n",
       "2095     4.800000  1.200000       0.104651         4929\n",
       "2096     4.166667  1.466667       2.088235         2401\n",
       "\n",
       "[2097 rows x 4 columns]"
      ]
     },
     "execution_count": 2,
     "metadata": {},
     "output_type": "execute_result"
    }
   ],
   "source": [
    "import pandas as pd\n",
    "import numpy as np\n",
    "\n",
    "df_user= pd.read_csv(\"https://raw.githubusercontent.com/ADPclass/ADP_book_ver01/main/data/27_problem8.csv\")\n",
    "df_user"
   ]
  },
  {
   "cell_type": "code",
   "execution_count": 8,
   "id": "3c6ff76d",
   "metadata": {},
   "outputs": [],
   "source": [
    "from  sklearn.linear_model import QuantileRegressor\n",
    "from sklearn.model_selection import train_test_split\n",
    "X = df_user[['temperature','wind','precipitation']]\n",
    "y = df_user['user_counts']\n",
    "\n",
    "X_train, X_test, y_train, y_test = train_test_split(X,y, test_size=0.3)\n",
    "\n",
    "model = QuantileRegressor()\n",
    "model.fit(X_train, y_train)\n",
    "\n",
    "y_pred = model.predict(X_test)\n",
    "\n"
   ]
  },
  {
   "cell_type": "code",
   "execution_count": 9,
   "id": "b6962021",
   "metadata": {},
   "outputs": [
    {
     "data": {
      "text/plain": [
       "array([ 2.12515333e+02, -1.46690880e-08,  8.14061028e-08])"
      ]
     },
     "execution_count": 9,
     "metadata": {},
     "output_type": "execute_result"
    }
   ],
   "source": [
    "model.coef_"
   ]
  },
  {
   "cell_type": "code",
   "execution_count": 10,
   "id": "887f77e4",
   "metadata": {},
   "outputs": [
    {
     "name": "stdout",
     "output_type": "stream",
     "text": [
      "212.52 -0.0 0.0\n"
     ]
    }
   ],
   "source": [
    "print(round(model.coef_[0],2), round(model.coef_[1],2),round(model.coef_[2],2))"
   ]
  },
  {
   "cell_type": "markdown",
   "id": "7789d1ae",
   "metadata": {},
   "source": [
    "### 1.분위수 회귀분석 (Quantile Regression) 을 사용하여 회귀 계수를 구하시오. (반올림하여 소수점 아래 둘째자리까지 표기하시오.)\n",
    "\n",
    "## 정답 : [ 1.45307722e+02, -1.25938469e-08,  1.37377253e-07]\n",
    "\n",
    "\n"
   ]
  },
  {
   "cell_type": "markdown",
   "id": "759491ca",
   "metadata": {},
   "source": [
    "### 2. 1의 모델의 회귀계수를 활용하여 temperature : 10.5 , wind : 8.2 ,precipitation : 3.5 일때 user_counts를 예측하시오"
   ]
  },
  {
   "cell_type": "code",
   "execution_count": 11,
   "id": "cf3a3b16",
   "metadata": {},
   "outputs": [
    {
     "data": {
      "text/plain": [
       "2231.410993784296"
      ]
     },
     "execution_count": 11,
     "metadata": {},
     "output_type": "execute_result"
    }
   ],
   "source": [
    "10.5 * model.coef_[0] + 8.2*model.coef_[1] + 3.5* model.coef_[2]"
   ]
  },
  {
   "cell_type": "code",
   "execution_count": null,
   "id": "02f5725a",
   "metadata": {},
   "outputs": [],
   "source": []
  }
 ],
 "metadata": {
  "kernelspec": {
   "display_name": "Python 3 (ipykernel)",
   "language": "python",
   "name": "python3"
  },
  "language_info": {
   "codemirror_mode": {
    "name": "ipython",
    "version": 3
   },
   "file_extension": ".py",
   "mimetype": "text/x-python",
   "name": "python",
   "nbconvert_exporter": "python",
   "pygments_lexer": "ipython3",
   "version": "3.7.12"
  },
  "toc": {
   "base_numbering": 1,
   "nav_menu": {},
   "number_sections": false,
   "sideBar": true,
   "skip_h1_title": false,
   "title_cell": "Table of Contents",
   "title_sidebar": "Contents",
   "toc_cell": false,
   "toc_position": {
    "height": "calc(100% - 180px)",
    "left": "10px",
    "top": "150px",
    "width": "220.17px"
   },
   "toc_section_display": true,
   "toc_window_display": false
  }
 },
 "nbformat": 4,
 "nbformat_minor": 5
}
