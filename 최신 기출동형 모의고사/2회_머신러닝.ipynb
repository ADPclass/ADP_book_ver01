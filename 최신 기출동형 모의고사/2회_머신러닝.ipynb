{
 "cells": [
  {
   "cell_type": "markdown",
   "id": "ff2d1cbc",
   "metadata": {
    "toc": true
   },
   "source": [
    "<h1>Table of Contents<span class=\"tocSkip\"></span></h1>\n",
    "<div class=\"toc\"><ul class=\"toc-item\"><li><span><a href=\"#1.-기계학습(50점)\" data-toc-modified-id=\"1.-기계학습(50점)-1\"><span class=\"toc-item-num\">1&nbsp;&nbsp;</span>1. 기계학습(50점)</a></span><ul class=\"toc-item\"><li><span><a href=\"#1.1-데이터-탐색\" data-toc-modified-id=\"1.1-데이터-탐색-1.1\"><span class=\"toc-item-num\">1.1&nbsp;&nbsp;</span>1.1 데이터 탐색</a></span><ul class=\"toc-item\"><li><span><a href=\"#1.1.2.-앞선-두-단계에서-얻은-향후-분석시-고려사항-작성\" data-toc-modified-id=\"1.1.2.-앞선-두-단계에서-얻은-향후-분석시-고려사항-작성-1.1.1\"><span class=\"toc-item-num\">1.1.1&nbsp;&nbsp;</span>1.1.2. 앞선 두 단계에서 얻은 향후 분석시 고려사항 작성</a></span></li></ul></li><li><span><a href=\"#1.2-클래스-불균형을-처리하시오.\" data-toc-modified-id=\"1.2-클래스-불균형을-처리하시오.-1.2\"><span class=\"toc-item-num\">1.2&nbsp;&nbsp;</span>1.2 클래스 불균형을 처리하시오.</a></span><ul class=\"toc-item\"><li><span><a href=\"#1.2.1.-업-샘플링-과정-설명하고-결과-작성\" data-toc-modified-id=\"1.2.1.-업-샘플링-과정-설명하고-결과-작성-1.2.1\"><span class=\"toc-item-num\">1.2.1&nbsp;&nbsp;</span>1.2.1. 업 샘플링 과정 설명하고 결과 작성</a></span></li><li><span><a href=\"#1.2.2-언더-샘플링-과정-설명하고-결과-작성\" data-toc-modified-id=\"1.2.2-언더-샘플링-과정-설명하고-결과-작성-1.2.2\"><span class=\"toc-item-num\">1.2.2&nbsp;&nbsp;</span>1.2.2 언더 샘플링 과정 설명하고 결과 작성</a></span></li><li><span><a href=\"#1.2.3-둘-중-선택하고-이유-설명\" data-toc-modified-id=\"1.2.3-둘-중-선택하고-이유-설명-1.2.3\"><span class=\"toc-item-num\">1.2.3&nbsp;&nbsp;</span>1.2.3 둘 중 선택하고 이유 설명</a></span></li></ul></li><li><span><a href=\"#1.3.-모델링-하시오\" data-toc-modified-id=\"1.3.-모델링-하시오-1.3\"><span class=\"toc-item-num\">1.3&nbsp;&nbsp;</span>1.3. 모델링 하시오</a></span><ul class=\"toc-item\"><li><span><a href=\"#1.3.1.-최소-3개-이상-알고리즘-제시하고-정확도-측면의-모델-1개와-속도-측면의-모델-1개를-꼭-구현(총-2개-이상)\" data-toc-modified-id=\"1.3.1.-최소-3개-이상-알고리즘-제시하고-정확도-측면의-모델-1개와-속도-측면의-모델-1개를-꼭-구현(총-2개-이상)-1.3.1\"><span class=\"toc-item-num\">1.3.1&nbsp;&nbsp;</span>1.3.1. 최소 3개 이상 알고리즘 제시하고 정확도 측면의 모델 1개와 속도 측면의 모델 1개를 꼭 구현(총 2개 이상)</a></span></li><li><span><a href=\"#1.3.2.-모델-비교하고-결과-설명\" data-toc-modified-id=\"1.3.2.-모델-비교하고-결과-설명-1.3.2\"><span class=\"toc-item-num\">1.3.2&nbsp;&nbsp;</span>1.3.2. 모델 비교하고 결과 설명</a></span></li><li><span><a href=\"#1.3.3.-속도-개선을-위한-차원-축소-설명하고-수행,-예측-성능과-속도-비교하고-결과-작성\" data-toc-modified-id=\"1.3.3.-속도-개선을-위한-차원-축소-설명하고-수행,-예측-성능과-속도-비교하고-결과-작성-1.3.3\"><span class=\"toc-item-num\">1.3.3&nbsp;&nbsp;</span>1.3.3. 속도 개선을 위한 차원 축소 설명하고 수행, 예측 성능과 속도 비교하고 결과 작성</a></span></li></ul></li></ul></li></ul></div>"
   ]
  },
  {
   "cell_type": "markdown",
   "id": "912df639",
   "metadata": {},
   "source": [
    "## 1. 기계학습(50점)"
   ]
  },
  {
   "cell_type": "markdown",
   "id": "5ba2a3cd",
   "metadata": {},
   "source": [
    "### 1.1 데이터 탐색"
   ]
  },
  {
   "cell_type": "code",
   "execution_count": 1,
   "id": "3f1edfe1",
   "metadata": {},
   "outputs": [
    {
     "data": {
      "text/html": [
       "<div>\n",
       "<style scoped>\n",
       "    .dataframe tbody tr th:only-of-type {\n",
       "        vertical-align: middle;\n",
       "    }\n",
       "\n",
       "    .dataframe tbody tr th {\n",
       "        vertical-align: top;\n",
       "    }\n",
       "\n",
       "    .dataframe thead th {\n",
       "        text-align: right;\n",
       "    }\n",
       "</style>\n",
       "<table border=\"1\" class=\"dataframe\">\n",
       "  <thead>\n",
       "    <tr style=\"text-align: right;\">\n",
       "      <th></th>\n",
       "      <th>Pregnancies</th>\n",
       "      <th>Glucose</th>\n",
       "      <th>BloodPressure</th>\n",
       "      <th>SkinThickness</th>\n",
       "      <th>Insulin</th>\n",
       "      <th>BMI</th>\n",
       "      <th>DiabetesPedigreeFunction</th>\n",
       "      <th>Age</th>\n",
       "      <th>Outcome</th>\n",
       "    </tr>\n",
       "  </thead>\n",
       "  <tbody>\n",
       "    <tr>\n",
       "      <th>0</th>\n",
       "      <td>6</td>\n",
       "      <td>148</td>\n",
       "      <td>72</td>\n",
       "      <td>35</td>\n",
       "      <td>0</td>\n",
       "      <td>33.6</td>\n",
       "      <td>0.627</td>\n",
       "      <td>50</td>\n",
       "      <td>1</td>\n",
       "    </tr>\n",
       "    <tr>\n",
       "      <th>1</th>\n",
       "      <td>1</td>\n",
       "      <td>85</td>\n",
       "      <td>66</td>\n",
       "      <td>29</td>\n",
       "      <td>0</td>\n",
       "      <td>26.6</td>\n",
       "      <td>0.351</td>\n",
       "      <td>31</td>\n",
       "      <td>0</td>\n",
       "    </tr>\n",
       "    <tr>\n",
       "      <th>2</th>\n",
       "      <td>8</td>\n",
       "      <td>183</td>\n",
       "      <td>64</td>\n",
       "      <td>0</td>\n",
       "      <td>0</td>\n",
       "      <td>23.3</td>\n",
       "      <td>0.672</td>\n",
       "      <td>32</td>\n",
       "      <td>1</td>\n",
       "    </tr>\n",
       "    <tr>\n",
       "      <th>3</th>\n",
       "      <td>1</td>\n",
       "      <td>89</td>\n",
       "      <td>66</td>\n",
       "      <td>23</td>\n",
       "      <td>94</td>\n",
       "      <td>28.1</td>\n",
       "      <td>0.167</td>\n",
       "      <td>21</td>\n",
       "      <td>0</td>\n",
       "    </tr>\n",
       "    <tr>\n",
       "      <th>4</th>\n",
       "      <td>0</td>\n",
       "      <td>137</td>\n",
       "      <td>40</td>\n",
       "      <td>35</td>\n",
       "      <td>168</td>\n",
       "      <td>43.1</td>\n",
       "      <td>2.288</td>\n",
       "      <td>33</td>\n",
       "      <td>1</td>\n",
       "    </tr>\n",
       "    <tr>\n",
       "      <th>...</th>\n",
       "      <td>...</td>\n",
       "      <td>...</td>\n",
       "      <td>...</td>\n",
       "      <td>...</td>\n",
       "      <td>...</td>\n",
       "      <td>...</td>\n",
       "      <td>...</td>\n",
       "      <td>...</td>\n",
       "      <td>...</td>\n",
       "    </tr>\n",
       "    <tr>\n",
       "      <th>763</th>\n",
       "      <td>10</td>\n",
       "      <td>101</td>\n",
       "      <td>76</td>\n",
       "      <td>48</td>\n",
       "      <td>180</td>\n",
       "      <td>32.9</td>\n",
       "      <td>0.171</td>\n",
       "      <td>63</td>\n",
       "      <td>0</td>\n",
       "    </tr>\n",
       "    <tr>\n",
       "      <th>764</th>\n",
       "      <td>2</td>\n",
       "      <td>122</td>\n",
       "      <td>70</td>\n",
       "      <td>27</td>\n",
       "      <td>0</td>\n",
       "      <td>36.8</td>\n",
       "      <td>0.340</td>\n",
       "      <td>27</td>\n",
       "      <td>0</td>\n",
       "    </tr>\n",
       "    <tr>\n",
       "      <th>765</th>\n",
       "      <td>5</td>\n",
       "      <td>121</td>\n",
       "      <td>72</td>\n",
       "      <td>23</td>\n",
       "      <td>112</td>\n",
       "      <td>26.2</td>\n",
       "      <td>0.245</td>\n",
       "      <td>30</td>\n",
       "      <td>0</td>\n",
       "    </tr>\n",
       "    <tr>\n",
       "      <th>766</th>\n",
       "      <td>1</td>\n",
       "      <td>126</td>\n",
       "      <td>60</td>\n",
       "      <td>0</td>\n",
       "      <td>0</td>\n",
       "      <td>30.1</td>\n",
       "      <td>0.349</td>\n",
       "      <td>47</td>\n",
       "      <td>1</td>\n",
       "    </tr>\n",
       "    <tr>\n",
       "      <th>767</th>\n",
       "      <td>1</td>\n",
       "      <td>93</td>\n",
       "      <td>70</td>\n",
       "      <td>31</td>\n",
       "      <td>0</td>\n",
       "      <td>30.4</td>\n",
       "      <td>0.315</td>\n",
       "      <td>23</td>\n",
       "      <td>0</td>\n",
       "    </tr>\n",
       "  </tbody>\n",
       "</table>\n",
       "<p>768 rows × 9 columns</p>\n",
       "</div>"
      ],
      "text/plain": [
       "     Pregnancies  Glucose  BloodPressure  SkinThickness  Insulin   BMI  \\\n",
       "0              6      148             72             35        0  33.6   \n",
       "1              1       85             66             29        0  26.6   \n",
       "2              8      183             64              0        0  23.3   \n",
       "3              1       89             66             23       94  28.1   \n",
       "4              0      137             40             35      168  43.1   \n",
       "..           ...      ...            ...            ...      ...   ...   \n",
       "763           10      101             76             48      180  32.9   \n",
       "764            2      122             70             27        0  36.8   \n",
       "765            5      121             72             23      112  26.2   \n",
       "766            1      126             60              0        0  30.1   \n",
       "767            1       93             70             31        0  30.4   \n",
       "\n",
       "     DiabetesPedigreeFunction  Age  Outcome  \n",
       "0                       0.627   50        1  \n",
       "1                       0.351   31        0  \n",
       "2                       0.672   32        1  \n",
       "3                       0.167   21        0  \n",
       "4                       2.288   33        1  \n",
       "..                        ...  ...      ...  \n",
       "763                     0.171   63        0  \n",
       "764                     0.340   27        0  \n",
       "765                     0.245   30        0  \n",
       "766                     0.349   47        1  \n",
       "767                     0.315   23        0  \n",
       "\n",
       "[768 rows x 9 columns]"
      ]
     },
     "execution_count": 1,
     "metadata": {},
     "output_type": "execute_result"
    }
   ],
   "source": [
    "import pandas as pd\n",
    "import numpy as np\n",
    "import matplotlib.pyplot as plt\n",
    "import seaborn as sns\n",
    "import warnings\n",
    "warnings.filterwarnings('ignore')\n",
    "\n",
    "df1 = pd.read_csv('../data/diabetes_for_test.csv')\n",
    "df1\n"
   ]
  },
  {
   "cell_type": "code",
   "execution_count": 2,
   "id": "b02a3826",
   "metadata": {
    "scrolled": true
   },
   "outputs": [
    {
     "data": {
      "text/html": [
       "<div>\n",
       "<style scoped>\n",
       "    .dataframe tbody tr th:only-of-type {\n",
       "        vertical-align: middle;\n",
       "    }\n",
       "\n",
       "    .dataframe tbody tr th {\n",
       "        vertical-align: top;\n",
       "    }\n",
       "\n",
       "    .dataframe thead th {\n",
       "        text-align: right;\n",
       "    }\n",
       "</style>\n",
       "<table border=\"1\" class=\"dataframe\">\n",
       "  <thead>\n",
       "    <tr style=\"text-align: right;\">\n",
       "      <th></th>\n",
       "      <th>Pregnancies</th>\n",
       "      <th>Glucose</th>\n",
       "      <th>BloodPressure</th>\n",
       "      <th>SkinThickness</th>\n",
       "      <th>Insulin</th>\n",
       "      <th>BMI</th>\n",
       "      <th>DiabetesPedigreeFunction</th>\n",
       "      <th>Age</th>\n",
       "    </tr>\n",
       "    <tr>\n",
       "      <th>Outcome</th>\n",
       "      <th></th>\n",
       "      <th></th>\n",
       "      <th></th>\n",
       "      <th></th>\n",
       "      <th></th>\n",
       "      <th></th>\n",
       "      <th></th>\n",
       "      <th></th>\n",
       "    </tr>\n",
       "  </thead>\n",
       "  <tbody>\n",
       "    <tr>\n",
       "      <th>0</th>\n",
       "      <td>3.298000</td>\n",
       "      <td>109.980000</td>\n",
       "      <td>68.184000</td>\n",
       "      <td>19.664000</td>\n",
       "      <td>68.792000</td>\n",
       "      <td>30.304200</td>\n",
       "      <td>0.429734</td>\n",
       "      <td>36.934000</td>\n",
       "    </tr>\n",
       "    <tr>\n",
       "      <th>1</th>\n",
       "      <td>4.865672</td>\n",
       "      <td>141.257463</td>\n",
       "      <td>70.824627</td>\n",
       "      <td>22.164179</td>\n",
       "      <td>100.335821</td>\n",
       "      <td>35.142537</td>\n",
       "      <td>0.550500</td>\n",
       "      <td>37.067164</td>\n",
       "    </tr>\n",
       "  </tbody>\n",
       "</table>\n",
       "</div>"
      ],
      "text/plain": [
       "         Pregnancies     Glucose  BloodPressure  SkinThickness     Insulin  \\\n",
       "Outcome                                                                      \n",
       "0           3.298000  109.980000      68.184000      19.664000   68.792000   \n",
       "1           4.865672  141.257463      70.824627      22.164179  100.335821   \n",
       "\n",
       "               BMI  DiabetesPedigreeFunction        Age  \n",
       "Outcome                                                  \n",
       "0        30.304200                  0.429734  36.934000  \n",
       "1        35.142537                  0.550500  37.067164  "
      ]
     },
     "execution_count": 2,
     "metadata": {},
     "output_type": "execute_result"
    }
   ],
   "source": [
    "diabetes = df1.groupby('Outcome').mean()\n",
    "diabetes"
   ]
  },
  {
   "cell_type": "code",
   "execution_count": 3,
   "id": "8af8c751",
   "metadata": {},
   "outputs": [
    {
     "data": {
      "text/plain": [
       "Text(0.5, 0.98, 'EDA')"
      ]
     },
     "execution_count": 3,
     "metadata": {},
     "output_type": "execute_result"
    },
    {
     "data": {
      "image/png": "[encoded data removed]",
      "text/plain": [
       "<Figure size 1440x1008 with 8 Axes>"
      ]
     },
     "metadata": {
      "needs_background": "light"
     },
     "output_type": "display_data"
    }
   ],
   "source": [
    "fig, axes = plt.subplots(2, 4, figsize=(20, 14))\n",
    "for i in range(4) : \n",
    "    sns.barplot(diabetes.index,diabetes.iloc[:,i], ax = axes[0][i] )\n",
    "    axes[0][i].set_title(diabetes.columns[i])\n",
    "for i in range(4) : \n",
    "    sns.barplot(diabetes.index,diabetes.iloc[:,i+4], ax = axes[1][i])\n",
    "    axes[1][i].set_title(diabetes.columns[i+4])\n",
    "\n",
    "plt.suptitle(\"EDA\")\n"
   ]
  },
  {
   "cell_type": "markdown",
   "id": "34f19797",
   "metadata": {},
   "source": [
    "당뇨병이 있는 사람은 없는 사람보다 pregnancies의 평균 수치가 높다."
   ]
  },
  {
   "cell_type": "markdown",
   "id": "871cac95",
   "metadata": {},
   "source": [
    "당뇨병이 있는 사람은 없는 사람 보다 Glucose의 평균 수치가 높다."
   ]
  },
  {
   "cell_type": "markdown",
   "id": "9923c633",
   "metadata": {},
   "source": [
    "당뇨병이 있는 사람은 없는 사람 보다 Insulin의 평균 수치가 높다."
   ]
  },
  {
   "cell_type": "markdown",
   "id": "5130e590",
   "metadata": {},
   "source": [
    "당뇨병이 있는 사람은 없는 사람 보다 BMI의 평균 수치가 높다."
   ]
  },
  {
   "cell_type": "code",
   "execution_count": 4,
   "id": "ae9293d7",
   "metadata": {
    "scrolled": true
   },
   "outputs": [
    {
     "data": {
      "text/plain": [
       "<AxesSubplot:>"
      ]
     },
     "execution_count": 4,
     "metadata": {},
     "output_type": "execute_result"
    },
    {
     "data": {
      "image/png": "[encoded data removed]",
      "text/plain": [
       "<Figure size 432x288 with 2 Axes>"
      ]
     },
     "metadata": {
      "needs_background": "light"
     },
     "output_type": "display_data"
    }
   ],
   "source": [
    "import seaborn as sns\n",
    "\n",
    "df_cor = df1.drop(columns=[\"Outcome\"]).corr(method='pearson')\n",
    "sns.heatmap(df_cor,\n",
    "           xticklabels = df_cor.columns,\n",
    "           yticklabels = df_cor.columns,\n",
    "           cmap='RdBu_r',\n",
    "           annot=True, \n",
    "           linewidth=3)\n"
   ]
  },
  {
   "cell_type": "markdown",
   "id": "54f46ec0",
   "metadata": {},
   "source": [
    "Outcome을 제외한 변수들 간의 상관성을 보았을 때, 0.9 이상의 상관관계를 가지는 변수는 없었다. 그러므로 모든 변수를 사용하여 모델링해도 될 것으로 판단된다. "
   ]
  },
  {
   "cell_type": "markdown",
   "id": "af5c4693",
   "metadata": {},
   "source": [
    "(2) 이상치를 식별하고 처리하시오. "
   ]
  },
  {
   "cell_type": "code",
   "execution_count": 5,
   "id": "686af04d",
   "metadata": {},
   "outputs": [
    {
     "data": {
      "text/html": [
       "<div>\n",
       "<style scoped>\n",
       "    .dataframe tbody tr th:only-of-type {\n",
       "        vertical-align: middle;\n",
       "    }\n",
       "\n",
       "    .dataframe tbody tr th {\n",
       "        vertical-align: top;\n",
       "    }\n",
       "\n",
       "    .dataframe thead th {\n",
       "        text-align: right;\n",
       "    }\n",
       "</style>\n",
       "<table border=\"1\" class=\"dataframe\">\n",
       "  <thead>\n",
       "    <tr style=\"text-align: right;\">\n",
       "      <th></th>\n",
       "      <th>Pregnancies</th>\n",
       "      <th>Glucose</th>\n",
       "      <th>BloodPressure</th>\n",
       "      <th>SkinThickness</th>\n",
       "      <th>Insulin</th>\n",
       "      <th>BMI</th>\n",
       "      <th>DiabetesPedigreeFunction</th>\n",
       "      <th>Age</th>\n",
       "      <th>Outcome</th>\n",
       "    </tr>\n",
       "  </thead>\n",
       "  <tbody>\n",
       "    <tr>\n",
       "      <th>count</th>\n",
       "      <td>768.000000</td>\n",
       "      <td>768.000000</td>\n",
       "      <td>768.000000</td>\n",
       "      <td>768.000000</td>\n",
       "      <td>768.000000</td>\n",
       "      <td>768.000000</td>\n",
       "      <td>768.000000</td>\n",
       "      <td>768.000000</td>\n",
       "      <td>768.000000</td>\n",
       "    </tr>\n",
       "    <tr>\n",
       "      <th>mean</th>\n",
       "      <td>3.845052</td>\n",
       "      <td>120.894531</td>\n",
       "      <td>69.105469</td>\n",
       "      <td>20.536458</td>\n",
       "      <td>79.799479</td>\n",
       "      <td>31.992578</td>\n",
       "      <td>0.471876</td>\n",
       "      <td>36.980469</td>\n",
       "      <td>0.348958</td>\n",
       "    </tr>\n",
       "    <tr>\n",
       "      <th>std</th>\n",
       "      <td>3.369578</td>\n",
       "      <td>31.972618</td>\n",
       "      <td>19.355807</td>\n",
       "      <td>15.952218</td>\n",
       "      <td>115.244002</td>\n",
       "      <td>7.884160</td>\n",
       "      <td>0.331329</td>\n",
       "      <td>61.404453</td>\n",
       "      <td>0.476951</td>\n",
       "    </tr>\n",
       "    <tr>\n",
       "      <th>min</th>\n",
       "      <td>0.000000</td>\n",
       "      <td>0.000000</td>\n",
       "      <td>0.000000</td>\n",
       "      <td>0.000000</td>\n",
       "      <td>0.000000</td>\n",
       "      <td>0.000000</td>\n",
       "      <td>0.078000</td>\n",
       "      <td>21.000000</td>\n",
       "      <td>0.000000</td>\n",
       "    </tr>\n",
       "    <tr>\n",
       "      <th>25%</th>\n",
       "      <td>1.000000</td>\n",
       "      <td>99.000000</td>\n",
       "      <td>62.000000</td>\n",
       "      <td>0.000000</td>\n",
       "      <td>0.000000</td>\n",
       "      <td>27.300000</td>\n",
       "      <td>0.243750</td>\n",
       "      <td>24.000000</td>\n",
       "      <td>0.000000</td>\n",
       "    </tr>\n",
       "    <tr>\n",
       "      <th>50%</th>\n",
       "      <td>3.000000</td>\n",
       "      <td>117.000000</td>\n",
       "      <td>72.000000</td>\n",
       "      <td>23.000000</td>\n",
       "      <td>30.500000</td>\n",
       "      <td>32.000000</td>\n",
       "      <td>0.372500</td>\n",
       "      <td>29.000000</td>\n",
       "      <td>0.000000</td>\n",
       "    </tr>\n",
       "    <tr>\n",
       "      <th>75%</th>\n",
       "      <td>6.000000</td>\n",
       "      <td>140.250000</td>\n",
       "      <td>80.000000</td>\n",
       "      <td>32.000000</td>\n",
       "      <td>127.250000</td>\n",
       "      <td>36.600000</td>\n",
       "      <td>0.626250</td>\n",
       "      <td>41.000000</td>\n",
       "      <td>1.000000</td>\n",
       "    </tr>\n",
       "    <tr>\n",
       "      <th>max</th>\n",
       "      <td>17.000000</td>\n",
       "      <td>199.000000</td>\n",
       "      <td>122.000000</td>\n",
       "      <td>99.000000</td>\n",
       "      <td>846.000000</td>\n",
       "      <td>67.100000</td>\n",
       "      <td>2.420000</td>\n",
       "      <td>999.000000</td>\n",
       "      <td>1.000000</td>\n",
       "    </tr>\n",
       "  </tbody>\n",
       "</table>\n",
       "</div>"
      ],
      "text/plain": [
       "       Pregnancies     Glucose  BloodPressure  SkinThickness     Insulin  \\\n",
       "count   768.000000  768.000000     768.000000     768.000000  768.000000   \n",
       "mean      3.845052  120.894531      69.105469      20.536458   79.799479   \n",
       "std       3.369578   31.972618      19.355807      15.952218  115.244002   \n",
       "min       0.000000    0.000000       0.000000       0.000000    0.000000   \n",
       "25%       1.000000   99.000000      62.000000       0.000000    0.000000   \n",
       "50%       3.000000  117.000000      72.000000      23.000000   30.500000   \n",
       "75%       6.000000  140.250000      80.000000      32.000000  127.250000   \n",
       "max      17.000000  199.000000     122.000000      99.000000  846.000000   \n",
       "\n",
       "              BMI  DiabetesPedigreeFunction         Age     Outcome  \n",
       "count  768.000000                768.000000  768.000000  768.000000  \n",
       "mean    31.992578                  0.471876   36.980469    0.348958  \n",
       "std      7.884160                  0.331329   61.404453    0.476951  \n",
       "min      0.000000                  0.078000   21.000000    0.000000  \n",
       "25%     27.300000                  0.243750   24.000000    0.000000  \n",
       "50%     32.000000                  0.372500   29.000000    0.000000  \n",
       "75%     36.600000                  0.626250   41.000000    1.000000  \n",
       "max     67.100000                  2.420000  999.000000    1.000000  "
      ]
     },
     "execution_count": 5,
     "metadata": {},
     "output_type": "execute_result"
    }
   ],
   "source": [
    "df1.describe()"
   ]
  },
  {
   "cell_type": "markdown",
   "id": "34a9c39c",
   "metadata": {},
   "source": [
    "우선 describe로 변수들을 살펴보았을 때, 각 변수들의 결측치는 없는 것을 확인하였다. 이상치를 판단하기 위해서는 mean, min, max값을 확인하는 것이 좋다. 평균과 min, 평균과 max 값이 std에 비해 한참 차이가 난다면, 이상치가 있을 가능성이 높다. \n",
    "이러한 이상치를 정확히 판단하기 위해서는 아래와 같이 boxplot으로 시각화하여 보는 것이정확하다. \n"
   ]
  },
  {
   "cell_type": "code",
   "execution_count": 6,
   "id": "46830882",
   "metadata": {},
   "outputs": [
    {
     "data": {
      "text/html": [
       "<div>\n",
       "<style scoped>\n",
       "    .dataframe tbody tr th:only-of-type {\n",
       "        vertical-align: middle;\n",
       "    }\n",
       "\n",
       "    .dataframe tbody tr th {\n",
       "        vertical-align: top;\n",
       "    }\n",
       "\n",
       "    .dataframe thead th {\n",
       "        text-align: right;\n",
       "    }\n",
       "</style>\n",
       "<table border=\"1\" class=\"dataframe\">\n",
       "  <thead>\n",
       "    <tr style=\"text-align: right;\">\n",
       "      <th></th>\n",
       "      <th>col</th>\n",
       "      <th>value</th>\n",
       "    </tr>\n",
       "  </thead>\n",
       "  <tbody>\n",
       "    <tr>\n",
       "      <th>0</th>\n",
       "      <td>Pregnancies</td>\n",
       "      <td>6.0</td>\n",
       "    </tr>\n",
       "    <tr>\n",
       "      <th>1</th>\n",
       "      <td>Pregnancies</td>\n",
       "      <td>1.0</td>\n",
       "    </tr>\n",
       "    <tr>\n",
       "      <th>2</th>\n",
       "      <td>Pregnancies</td>\n",
       "      <td>8.0</td>\n",
       "    </tr>\n",
       "    <tr>\n",
       "      <th>3</th>\n",
       "      <td>Pregnancies</td>\n",
       "      <td>1.0</td>\n",
       "    </tr>\n",
       "    <tr>\n",
       "      <th>4</th>\n",
       "      <td>Pregnancies</td>\n",
       "      <td>0.0</td>\n",
       "    </tr>\n",
       "    <tr>\n",
       "      <th>...</th>\n",
       "      <td>...</td>\n",
       "      <td>...</td>\n",
       "    </tr>\n",
       "    <tr>\n",
       "      <th>6139</th>\n",
       "      <td>Age</td>\n",
       "      <td>63.0</td>\n",
       "    </tr>\n",
       "    <tr>\n",
       "      <th>6140</th>\n",
       "      <td>Age</td>\n",
       "      <td>27.0</td>\n",
       "    </tr>\n",
       "    <tr>\n",
       "      <th>6141</th>\n",
       "      <td>Age</td>\n",
       "      <td>30.0</td>\n",
       "    </tr>\n",
       "    <tr>\n",
       "      <th>6142</th>\n",
       "      <td>Age</td>\n",
       "      <td>47.0</td>\n",
       "    </tr>\n",
       "    <tr>\n",
       "      <th>6143</th>\n",
       "      <td>Age</td>\n",
       "      <td>23.0</td>\n",
       "    </tr>\n",
       "  </tbody>\n",
       "</table>\n",
       "<p>6144 rows × 2 columns</p>\n",
       "</div>"
      ],
      "text/plain": [
       "              col  value\n",
       "0     Pregnancies    6.0\n",
       "1     Pregnancies    1.0\n",
       "2     Pregnancies    8.0\n",
       "3     Pregnancies    1.0\n",
       "4     Pregnancies    0.0\n",
       "...           ...    ...\n",
       "6139          Age   63.0\n",
       "6140          Age   27.0\n",
       "6141          Age   30.0\n",
       "6142          Age   47.0\n",
       "6143          Age   23.0\n",
       "\n",
       "[6144 rows x 2 columns]"
      ]
     },
     "execution_count": 6,
     "metadata": {},
     "output_type": "execute_result"
    }
   ],
   "source": [
    "X = df1.drop(columns=['Outcome'])\n",
    "df_v1 = pd.melt(X ,var_name='col', value_name='value')\n",
    "df_v1"
   ]
  },
  {
   "cell_type": "code",
   "execution_count": 7,
   "id": "e6e877b2",
   "metadata": {},
   "outputs": [
    {
     "data": {
      "image/png": "[encoded data removed]",
      "text/plain": [
       "<Figure size 1080x504 with 1 Axes>"
      ]
     },
     "metadata": {
      "needs_background": "light"
     },
     "output_type": "display_data"
    }
   ],
   "source": [
    "plt.figure(figsize = (15, 7))\n",
    "sns.boxplot(x = 'col', y = 'value', data = df_v1)\n",
    "plt.xticks(range(8), X.columns)\n",
    "plt.show()"
   ]
  },
  {
   "cell_type": "code",
   "execution_count": 8,
   "id": "b11ec7e9",
   "metadata": {},
   "outputs": [
    {
     "name": "stdout",
     "output_type": "stream",
     "text": [
      "Age의 중앙값 :  29.0\n"
     ]
    },
    {
     "data": {
      "text/plain": [
       "<AxesSubplot:xlabel='Age'>"
      ]
     },
     "execution_count": 8,
     "metadata": {},
     "output_type": "execute_result"
    },
    {
     "data": {
      "image/png": "[encoded data removed]",
      "text/plain": [
       "<Figure size 432x288 with 1 Axes>"
      ]
     },
     "metadata": {
      "needs_background": "light"
     },
     "output_type": "display_data"
    }
   ],
   "source": [
    "print(\"Age의 중앙값 : \",  df1.Age.median()) \n",
    "outlier_index = df1[df1['Age']>400].index\n",
    "df1.loc[outlier_index,'Age']=df1.Age.median()\n",
    "\n",
    "sns.boxplot(df1[\"Age\"])"
   ]
  },
  {
   "cell_type": "markdown",
   "id": "298b2f6b",
   "metadata": {},
   "source": [
    "Age 컬럼에 눈에띄는 이상치(999)가 있어 Age의 중앙값인 29 로 이상치를 대체한다. "
   ]
  },
  {
   "cell_type": "code",
   "execution_count": 9,
   "id": "5e900526",
   "metadata": {},
   "outputs": [
    {
     "data": {
      "text/html": [
       "<div>\n",
       "<style scoped>\n",
       "    .dataframe tbody tr th:only-of-type {\n",
       "        vertical-align: middle;\n",
       "    }\n",
       "\n",
       "    .dataframe tbody tr th {\n",
       "        vertical-align: top;\n",
       "    }\n",
       "\n",
       "    .dataframe thead th {\n",
       "        text-align: right;\n",
       "    }\n",
       "</style>\n",
       "<table border=\"1\" class=\"dataframe\">\n",
       "  <thead>\n",
       "    <tr style=\"text-align: right;\">\n",
       "      <th></th>\n",
       "      <th>Pregnancies</th>\n",
       "      <th>Glucose</th>\n",
       "      <th>BloodPressure</th>\n",
       "      <th>SkinThickness</th>\n",
       "      <th>Insulin</th>\n",
       "      <th>BMI</th>\n",
       "      <th>DiabetesPedigreeFunction</th>\n",
       "      <th>Age</th>\n",
       "      <th>Outcome</th>\n",
       "    </tr>\n",
       "  </thead>\n",
       "  <tbody>\n",
       "    <tr>\n",
       "      <th>count</th>\n",
       "      <td>768.000000</td>\n",
       "      <td>768.000000</td>\n",
       "      <td>768.000000</td>\n",
       "      <td>768.000000</td>\n",
       "      <td>768.000000</td>\n",
       "      <td>768.000000</td>\n",
       "      <td>768.000000</td>\n",
       "      <td>768.000000</td>\n",
       "      <td>768.000000</td>\n",
       "    </tr>\n",
       "    <tr>\n",
       "      <th>mean</th>\n",
       "      <td>3.845052</td>\n",
       "      <td>121.656250</td>\n",
       "      <td>72.386719</td>\n",
       "      <td>20.536458</td>\n",
       "      <td>79.799479</td>\n",
       "      <td>31.992578</td>\n",
       "      <td>0.471876</td>\n",
       "      <td>33.191406</td>\n",
       "      <td>0.348958</td>\n",
       "    </tr>\n",
       "    <tr>\n",
       "      <th>std</th>\n",
       "      <td>3.369578</td>\n",
       "      <td>30.438286</td>\n",
       "      <td>12.096642</td>\n",
       "      <td>15.952218</td>\n",
       "      <td>115.244002</td>\n",
       "      <td>7.884160</td>\n",
       "      <td>0.331329</td>\n",
       "      <td>11.683509</td>\n",
       "      <td>0.476951</td>\n",
       "    </tr>\n",
       "    <tr>\n",
       "      <th>min</th>\n",
       "      <td>0.000000</td>\n",
       "      <td>44.000000</td>\n",
       "      <td>24.000000</td>\n",
       "      <td>0.000000</td>\n",
       "      <td>0.000000</td>\n",
       "      <td>0.000000</td>\n",
       "      <td>0.078000</td>\n",
       "      <td>21.000000</td>\n",
       "      <td>0.000000</td>\n",
       "    </tr>\n",
       "    <tr>\n",
       "      <th>25%</th>\n",
       "      <td>1.000000</td>\n",
       "      <td>99.750000</td>\n",
       "      <td>64.000000</td>\n",
       "      <td>0.000000</td>\n",
       "      <td>0.000000</td>\n",
       "      <td>27.300000</td>\n",
       "      <td>0.243750</td>\n",
       "      <td>24.000000</td>\n",
       "      <td>0.000000</td>\n",
       "    </tr>\n",
       "    <tr>\n",
       "      <th>50%</th>\n",
       "      <td>3.000000</td>\n",
       "      <td>117.000000</td>\n",
       "      <td>72.000000</td>\n",
       "      <td>23.000000</td>\n",
       "      <td>30.500000</td>\n",
       "      <td>32.000000</td>\n",
       "      <td>0.372500</td>\n",
       "      <td>29.000000</td>\n",
       "      <td>0.000000</td>\n",
       "    </tr>\n",
       "    <tr>\n",
       "      <th>75%</th>\n",
       "      <td>6.000000</td>\n",
       "      <td>140.250000</td>\n",
       "      <td>80.000000</td>\n",
       "      <td>32.000000</td>\n",
       "      <td>127.250000</td>\n",
       "      <td>36.600000</td>\n",
       "      <td>0.626250</td>\n",
       "      <td>41.000000</td>\n",
       "      <td>1.000000</td>\n",
       "    </tr>\n",
       "    <tr>\n",
       "      <th>max</th>\n",
       "      <td>17.000000</td>\n",
       "      <td>199.000000</td>\n",
       "      <td>122.000000</td>\n",
       "      <td>99.000000</td>\n",
       "      <td>846.000000</td>\n",
       "      <td>67.100000</td>\n",
       "      <td>2.420000</td>\n",
       "      <td>81.000000</td>\n",
       "      <td>1.000000</td>\n",
       "    </tr>\n",
       "  </tbody>\n",
       "</table>\n",
       "</div>"
      ],
      "text/plain": [
       "       Pregnancies     Glucose  BloodPressure  SkinThickness     Insulin  \\\n",
       "count   768.000000  768.000000     768.000000     768.000000  768.000000   \n",
       "mean      3.845052  121.656250      72.386719      20.536458   79.799479   \n",
       "std       3.369578   30.438286      12.096642      15.952218  115.244002   \n",
       "min       0.000000   44.000000      24.000000       0.000000    0.000000   \n",
       "25%       1.000000   99.750000      64.000000       0.000000    0.000000   \n",
       "50%       3.000000  117.000000      72.000000      23.000000   30.500000   \n",
       "75%       6.000000  140.250000      80.000000      32.000000  127.250000   \n",
       "max      17.000000  199.000000     122.000000      99.000000  846.000000   \n",
       "\n",
       "              BMI  DiabetesPedigreeFunction         Age     Outcome  \n",
       "count  768.000000                768.000000  768.000000  768.000000  \n",
       "mean    31.992578                  0.471876   33.191406    0.348958  \n",
       "std      7.884160                  0.331329   11.683509    0.476951  \n",
       "min      0.000000                  0.078000   21.000000    0.000000  \n",
       "25%     27.300000                  0.243750   24.000000    0.000000  \n",
       "50%     32.000000                  0.372500   29.000000    0.000000  \n",
       "75%     36.600000                  0.626250   41.000000    1.000000  \n",
       "max     67.100000                  2.420000   81.000000    1.000000  "
      ]
     },
     "execution_count": 9,
     "metadata": {},
     "output_type": "execute_result"
    }
   ],
   "source": [
    "outlier_index = df1[df1['Glucose']== 0].index\n",
    "df1.loc[outlier_index,'Glucose']=df1.Glucose.median()\n",
    "outlier_index = df1[df1['BloodPressure']== 0].index\n",
    "df1.loc[outlier_index,'BloodPressure']= df1.BloodPressure.median()\n",
    "\n",
    "df1.describe()"
   ]
  },
  {
   "cell_type": "markdown",
   "id": "b83fea4c",
   "metadata": {},
   "source": [
    "추가적으로 데이터를 살펴 보았을 때, Glucose와 BloodPressure컬럼에는 0이 존재하지 않아야 된다고 판단되었다. 이를 이상치라고 판단하여 이상치를 제외한 중앙값으로 이상치를 대체하였다."
   ]
  },
  {
   "cell_type": "markdown",
   "id": "ff1e9128",
   "metadata": {},
   "source": [
    "#### 1.1.2. 앞선 두 단계에서 얻은 향후 분석시 고려사항 작성"
   ]
  },
  {
   "cell_type": "markdown",
   "id": "0541c4bf",
   "metadata": {},
   "source": [
    "위에 describe() 함수를 보게 되면, 최솟값과 최댓값 차이가 많이 나는 컬럼이 존재한다. 따라서 선형모델 사용시 scale을 적용할 필요가 보인다."
   ]
  },
  {
   "cell_type": "markdown",
   "id": "25975d25",
   "metadata": {},
   "source": [
    "### 1.2 클래스 불균형을 처리하시오."
   ]
  },
  {
   "cell_type": "code",
   "execution_count": 10,
   "id": "e59201f1",
   "metadata": {},
   "outputs": [
    {
     "data": {
      "text/plain": [
       "0    500\n",
       "1    268\n",
       "Name: Outcome, dtype: int64"
      ]
     },
     "execution_count": 10,
     "metadata": {},
     "output_type": "execute_result"
    }
   ],
   "source": [
    "df1['Outcome'].value_counts()"
   ]
  },
  {
   "cell_type": "markdown",
   "id": "31909b52",
   "metadata": {},
   "source": [
    "#### 1.2.1. 업 샘플링 과정 설명하고 결과 작성"
   ]
  },
  {
   "cell_type": "markdown",
   "id": "41f4c745",
   "metadata": {},
   "source": [
    "Upsampling은 소수 클래스를 늘려서 다수 클래스 개수에 맞추는 방식으로,  \n",
    "대표적으로 random으로 소수의 클래스을 선택하여 데이터를 복제하는 RandomOverSampler, 임의의 소수 클래스 주변으로 새로운 데이터를 생성하는 smote 방식이 있다."
   ]
  },
  {
   "cell_type": "code",
   "execution_count": 11,
   "id": "50a64398",
   "metadata": {},
   "outputs": [
    {
     "name": "stdout",
     "output_type": "stream",
     "text": [
      "기존의 타겟 분포\n",
      "0    0.651042\n",
      "1    0.348958\n",
      "Name: Outcome, dtype: float64\n",
      "----------\n",
      "upsampling의 타겟 분포\n",
      "0    0.5\n",
      "1    0.5\n",
      "Name: Outcome, dtype: float64\n"
     ]
    }
   ],
   "source": [
    "from imblearn.over_sampling import RandomOverSampler \n",
    "\n",
    "X = df1.drop(['Outcome'],axis=1)\n",
    "y = df1[['Outcome']]\n",
    "\n",
    "ros = RandomOverSampler()\n",
    "X_upsampling,y_upsampling = ros.fit_resample(X,y)\n",
    "\n",
    "print('기존의 타겟 분포')\n",
    "print(df1['Outcome'].value_counts()/len(df1))\n",
    "print('-'*10)\n",
    "print('upsampling의 타겟 분포')\n",
    "print(y_upsampling['Outcome'].value_counts()/len(y_upsampling))"
   ]
  },
  {
   "cell_type": "markdown",
   "id": "c44df832",
   "metadata": {},
   "source": [
    "#### 1.2.2 언더 샘플링 과정 설명하고 결과 작성"
   ]
  },
  {
   "cell_type": "markdown",
   "id": "4ae7d2b8",
   "metadata": {},
   "source": [
    "undersampling은 다수 클래스를 감소시켜 소수 클래스 개수에 맞추는 방식으로,  \n",
    "대표적으로 random으로 다수의 클래스의 데이터를 선택하여 삭제하는 RandomUnderSampler, 서로 다른 클래스가 있을 때 서로 다른 클래스끼리 가장 가까운 데이터들이 토멕링크로 묶여서 토멕링크 중 다수 클래스의 데이터를 제거하는 Tomek link방식이 있다."
   ]
  },
  {
   "cell_type": "code",
   "execution_count": 12,
   "id": "88ba46e7",
   "metadata": {},
   "outputs": [
    {
     "name": "stdout",
     "output_type": "stream",
     "text": [
      "기존의 타겟 분포\n",
      "0    0.651042\n",
      "1    0.348958\n",
      "Name: Outcome, dtype: float64\n",
      "----------\n",
      "undersampling의 타겟 분포\n",
      "0    0.5\n",
      "1    0.5\n",
      "Name: Outcome, dtype: float64\n"
     ]
    }
   ],
   "source": [
    "from imblearn.under_sampling import RandomUnderSampler\n",
    "\n",
    "rus = RandomOverSampler()\n",
    "X_undersampling,y_undersampling = rus.fit_resample(X,y)\n",
    "\n",
    "print('기존의 타겟 분포')\n",
    "print(df1['Outcome'].value_counts()/len(df1))\n",
    "print('-'*10)\n",
    "print('undersampling의 타겟 분포')\n",
    "print(y_undersampling['Outcome'].value_counts()/len(y_undersampling))"
   ]
  },
  {
   "cell_type": "markdown",
   "id": "b15835c4",
   "metadata": {},
   "source": [
    "#### 1.2.3 둘 중 선택하고 이유 설명"
   ]
  },
  {
   "cell_type": "markdown",
   "id": "fb60ec90",
   "metadata": {},
   "source": [
    "현 데이터가 총 768개로 적은 데이터가 존재한다.. 따라서, undersampling을 선택하게 되면 데이터가 더 적어지기 때문에 오버피팅이 일어날 위험이 더 크다.  \n",
    "**oversampling을 선택할 것 이다**."
   ]
  },
  {
   "cell_type": "markdown",
   "id": "cd3392b7",
   "metadata": {},
   "source": [
    "### 1.3. 모델링 하시오"
   ]
  },
  {
   "cell_type": "markdown",
   "id": "4fd0359d",
   "metadata": {},
   "source": [
    "#### 1.3.1. 최소 3개 이상 알고리즘 제시하고 정확도 측면의 모델 1개와 속도 측면의 모델 1개를 꼭 구현(총 2개 이상)"
   ]
  },
  {
   "cell_type": "markdown",
   "id": "e2c916d8",
   "metadata": {},
   "source": [
    "속도 측면에서 logisticregression,정확도 측면에서 svm, 기타로 xgboost를 제시한다"
   ]
  },
  {
   "cell_type": "code",
   "execution_count": 13,
   "id": "15ee84a1",
   "metadata": {},
   "outputs": [],
   "source": [
    "from sklearn.linear_model import LogisticRegression\n",
    "from xgboost import XGBClassifier\n",
    "import sklearn.svm as svm\n",
    "\n",
    "log = LogisticRegression()\n",
    "xgb = XGBClassifier(random_state=0)\n",
    "svm_clf =svm.SVC(kernel = 'linear')"
   ]
  },
  {
   "cell_type": "markdown",
   "id": "5f35530d",
   "metadata": {},
   "source": [
    "#### 1.3.2. 모델 비교하고 결과 설명"
   ]
  },
  {
   "cell_type": "code",
   "execution_count": 14,
   "id": "1f55a4b0",
   "metadata": {},
   "outputs": [],
   "source": [
    "from sklearn.model_selection import KFold\n",
    "from sklearn.metrics import accuracy_score\n",
    "import time\n",
    "from imblearn.over_sampling import SMOTE\n",
    "smote = SMOTE(random_state=0)\n",
    "\n",
    "## 5개의 경우의 수로 분할하여 검증 \n",
    "kfold = KFold()\n",
    "def model_result(model):\n",
    "    pred_li =[]\n",
    "    for train_index,test_index in kfold.split(X):\n",
    "        X_train,X_test = X.iloc[train_index,:],X.iloc[test_index,:]\n",
    "        y_train,y_test = y.iloc[train_index,:],y.iloc[test_index,:]\n",
    "        \n",
    "        X_train_resample,y_train_resample = smote.fit_resample(X_train,y_train)\n",
    "        \n",
    "        start = time.time()\n",
    "        model.fit(X_train_resample,y_train_resample)\n",
    "        end = time.time()\n",
    "        \n",
    "        pred = model.predict(X_test)\n",
    "        pred_li.append(accuracy_score(pred,y_test['Outcome']))\n",
    "        \n",
    "    ## 마지막 데이터 학습 속도     \n",
    "    print(f\"{end - start:.5f} sec\")\n",
    "    ## 5개의 train데이터에 대한 정확도의 평균 값  \n",
    "    print(np.mean(pred_li))\n",
    "\n"
   ]
  },
  {
   "cell_type": "code",
   "execution_count": 15,
   "id": "38547b8d",
   "metadata": {},
   "outputs": [
    {
     "name": "stdout",
     "output_type": "stream",
     "text": [
      "0.02482 sec\n",
      "0.7475087004498769\n"
     ]
    }
   ],
   "source": [
    "model_result(log)"
   ]
  },
  {
   "cell_type": "code",
   "execution_count": 16,
   "id": "73dc231b",
   "metadata": {},
   "outputs": [
    {
     "name": "stdout",
     "output_type": "stream",
     "text": [
      "[22:57:02] WARNING: ..\\src\\learner.cc:1061: Starting in XGBoost 1.3.0, the default evaluation metric used with the objective 'binary:logistic' was changed from 'error' to 'logloss'. Explicitly set eval_metric if you'd like to restore the old behavior.\n",
      "[22:57:02] WARNING: ..\\src\\learner.cc:1061: Starting in XGBoost 1.3.0, the default evaluation metric used with the objective 'binary:logistic' was changed from 'error' to 'logloss'. Explicitly set eval_metric if you'd like to restore the old behavior.\n",
      "[22:57:02] WARNING: ..\\src\\learner.cc:1061: Starting in XGBoost 1.3.0, the default evaluation metric used with the objective 'binary:logistic' was changed from 'error' to 'logloss'. Explicitly set eval_metric if you'd like to restore the old behavior.\n",
      "[22:57:02] WARNING: ..\\src\\learner.cc:1061: Starting in XGBoost 1.3.0, the default evaluation metric used with the objective 'binary:logistic' was changed from 'error' to 'logloss'. Explicitly set eval_metric if you'd like to restore the old behavior.\n",
      "[22:57:02] WARNING: ..\\src\\learner.cc:1061: Starting in XGBoost 1.3.0, the default evaluation metric used with the objective 'binary:logistic' was changed from 'error' to 'logloss'. Explicitly set eval_metric if you'd like to restore the old behavior.\n",
      "0.08129 sec\n",
      "0.7448518801459978\n"
     ]
    }
   ],
   "source": [
    "model_result(xgb)"
   ]
  },
  {
   "cell_type": "code",
   "execution_count": 17,
   "id": "7b663b57",
   "metadata": {},
   "outputs": [
    {
     "name": "stdout",
     "output_type": "stream",
     "text": [
      "3.51645 sec\n",
      "0.7578898225957049\n"
     ]
    }
   ],
   "source": [
    "model_result(svm_clf)"
   ]
  },
  {
   "cell_type": "markdown",
   "id": "729528e6",
   "metadata": {},
   "source": [
    "데이터 수가 적기 때문에 hold-out 기법이 아니라 cross-validation 기법으로 성능을 확인하였고, 위에서 말했던거와 같이 oversampling 기법인 smote를 활용하였다.  \n",
    "따라서, 역시나 logistic이 가장 빨랐으며 svm이 성능이 가장 좋은것을 확인할수있었다."
   ]
  },
  {
   "cell_type": "markdown",
   "id": "86785402",
   "metadata": {},
   "source": [
    "#### 1.3.3. 속도 개선을 위한 차원 축소 설명하고 수행, 예측 성능과 속도 비교하고 결과 작성"
   ]
  },
  {
   "cell_type": "code",
   "execution_count": 18,
   "id": "c1a8674f",
   "metadata": {},
   "outputs": [
    {
     "name": "stdout",
     "output_type": "stream",
     "text": [
      "[0.26110315 0.22613628 0.12025873 0.10650649 0.1016306  0.08197042\n",
      " 0.05251497 0.04987936]\n",
      "0.8156352463546326\n"
     ]
    }
   ],
   "source": [
    "from sklearn.preprocessing import StandardScaler\n",
    "from sklearn.decomposition import PCA\n",
    "from sklearn.model_selection import train_test_split\n",
    "\n",
    "smote = SMOTE(random_state=0)\n",
    "\n",
    "X_train, X_test, y_train, y_train = train_test_split(X,y, stratify=y, test_size=0.3, random_state=2022)\n",
    "\n",
    "scaler = StandardScaler()\n",
    "X_train_s = scaler.fit_transform(X_train)\n",
    "\n",
    "pca = PCA(n_components=8)\n",
    "X_train_pca = pca.fit(X_train_s)\n",
    "\n",
    "print(pca.explained_variance_ratio_)\n",
    "print(pca.explained_variance_ratio_[:5].sum())"
   ]
  },
  {
   "cell_type": "code",
   "execution_count": 19,
   "id": "1d24e04a",
   "metadata": {},
   "outputs": [],
   "source": [
    "def pca_model_result(model):\n",
    "    pred_li =[]\n",
    "    for train_index,test_index in kfold.split(X):\n",
    "        X_train,X_test = X.iloc[train_index,:],X.iloc[test_index,:]\n",
    "        y_train,y_test = y.iloc[train_index,:],y.iloc[test_index,:]\n",
    "        \n",
    "        X_train_resample,y_train_resample = smote.fit_resample(X_train,y_train)\n",
    "        \n",
    "        scaler = StandardScaler()\n",
    "        X_train_res_s = scaler.fit_transform(X_train_resample)\n",
    "        X_test_s = scaler.transform(X_test)\n",
    "        \n",
    "        pca = PCA(n_components=5)\n",
    "        X_train_pca = pca.fit_transform(X_train_res_s)\n",
    "        X_test_pca = pca.transform(X_test_s)\n",
    "        \n",
    "        start = time.time()\n",
    "        model.fit(X_train_pca,y_train_resample)\n",
    "        end = time.time()\n",
    "        \n",
    "        pred = model.predict(X_test_pca)\n",
    "        pred_li.append(accuracy_score(pred,y_test['Outcome']))\n",
    "        \n",
    "        \n",
    "    print(f\"{end - start:.5f} sec\")\n",
    "    print(np.mean(pred_li))"
   ]
  },
  {
   "cell_type": "code",
   "execution_count": 20,
   "id": "18c1ec5e",
   "metadata": {},
   "outputs": [
    {
     "name": "stdout",
     "output_type": "stream",
     "text": [
      "0.00492 sec\n",
      "0.7305067481538071\n"
     ]
    }
   ],
   "source": [
    "pca_model_result(log)"
   ]
  },
  {
   "cell_type": "code",
   "execution_count": 21,
   "id": "7bcaa2c1",
   "metadata": {},
   "outputs": [
    {
     "name": "stdout",
     "output_type": "stream",
     "text": [
      "[22:57:26] WARNING: ..\\src\\learner.cc:1061: Starting in XGBoost 1.3.0, the default evaluation metric used with the objective 'binary:logistic' was changed from 'error' to 'logloss'. Explicitly set eval_metric if you'd like to restore the old behavior.\n",
      "[22:57:26] WARNING: ..\\src\\learner.cc:1061: Starting in XGBoost 1.3.0, the default evaluation metric used with the objective 'binary:logistic' was changed from 'error' to 'logloss'. Explicitly set eval_metric if you'd like to restore the old behavior.\n",
      "[22:57:26] WARNING: ..\\src\\learner.cc:1061: Starting in XGBoost 1.3.0, the default evaluation metric used with the objective 'binary:logistic' was changed from 'error' to 'logloss'. Explicitly set eval_metric if you'd like to restore the old behavior.\n",
      "[22:57:26] WARNING: ..\\src\\learner.cc:1061: Starting in XGBoost 1.3.0, the default evaluation metric used with the objective 'binary:logistic' was changed from 'error' to 'logloss'. Explicitly set eval_metric if you'd like to restore the old behavior.\n",
      "[22:57:26] WARNING: ..\\src\\learner.cc:1061: Starting in XGBoost 1.3.0, the default evaluation metric used with the objective 'binary:logistic' was changed from 'error' to 'logloss'. Explicitly set eval_metric if you'd like to restore the old behavior.\n",
      "0.09038 sec\n",
      "0.718809948221713\n"
     ]
    }
   ],
   "source": [
    "pca_model_result(xgb)"
   ]
  },
  {
   "cell_type": "code",
   "execution_count": 22,
   "id": "12730656",
   "metadata": {},
   "outputs": [
    {
     "name": "stdout",
     "output_type": "stream",
     "text": [
      "0.02780 sec\n",
      "0.7253119429590018\n"
     ]
    }
   ],
   "source": [
    "pca_model_result(svm_clf)"
   ]
  },
  {
   "cell_type": "markdown",
   "id": "0e39ac15",
   "metadata": {},
   "source": [
    "예측 성능은 다소 상승되었고 속도 측면에도 차원축소에 의해 더 빨라졌다.  \n",
    "향후에 데이터가 크게 늘어난다면 성능 및 속도 측면에서 더 유의미한 차이가 클 것으로 보인다."
   ]
  }
 ],
 "metadata": {
  "kernelspec": {
   "display_name": "Python 3 (ipykernel)",
   "language": "python",
   "name": "python3"
  },
  "language_info": {
   "codemirror_mode": {
    "name": "ipython",
    "version": 3
   },
   "file_extension": ".py",
   "mimetype": "text/x-python",
   "name": "python",
   "nbconvert_exporter": "python",
   "pygments_lexer": "ipython3",
   "version": "3.7.10"
  },
  "toc": {
   "base_numbering": 1,
   "nav_menu": {},
   "number_sections": true,
   "sideBar": true,
   "skip_h1_title": false,
   "title_cell": "Table of Contents",
   "title_sidebar": "Contents",
   "toc_cell": true,
   "toc_position": {},
   "toc_section_display": true,
   "toc_window_display": false
  }
 },
 "nbformat": 4,
 "nbformat_minor": 5
}
