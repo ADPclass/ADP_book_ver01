{
 "cells": [
  {
   "cell_type": "markdown",
   "id": "c988275e",
   "metadata": {},
   "source": [
    "# 5번 \n",
    "\n",
    "1. 아래 그래프는 A,B,C 자치구별 H 의원에 대한 찬성, 반대 투표 결과이다.자치구별 지지율이 같은지에 대해서 검정하라. \n",
    "\n"
   ]
  },
  {
   "attachments": {
    "image.png": {
     "image/png": "[encoded data removed]"
    }
   },
   "cell_type": "markdown",
   "id": "03b577a3",
   "metadata": {},
   "source": [
    "![image.png](attachment:image.png)"
   ]
  },
  {
   "cell_type": "markdown",
   "id": "6cc0821f",
   "metadata": {},
   "source": [
    "\n",
    "# 교차분석\n",
    "\n",
    "\n",
    "<br>\n",
    "\n",
    "## 카이제곱 검정이란? \n",
    "\n",
    "- 카이제곱(χ2) 분포에 기초한 통계 방법\n",
    "- 설명변수가 <b>범주형 자료</b>인 경우 사용\n",
    "- 각 범주에 따른 결과변수의 분포를 설명하거나, 범주형 변수가 두 개 이상인 경우 두 변수가 상관이 있는지를 검정함\n",
    "- 기본가정 : 각 범주의 기대빈도가 5 이상이어야 함\n",
    "\n",
    "<br>\n",
    "\n",
    "<br>\n",
    "\n",
    "## 교차분석 개념\n",
    "\n",
    "- 범주형 자료(명목/서열 수준)인 두 변수 간의 관계를 알아보기 위해 실시하는 분석 기법\n",
    "- 적합성 검정, 독립성 검정, 동질성 검정에 사용되며, 카이제곱 검정통계량을 이용함\n",
    "- 교차분석은 교차표에서 각 셀의 관찰빈도와 기대빈도 간의 차이를 검정함\n",
    "    - 관찰빈도 : 자료로부터 얻은 빈도분포\n",
    "    - 기대빈도 : 두 변수가 독립일 때 이론적으로 기대할 수 있는 빈도분포\n",
    "\n",
    "<br>\n",
    "\n",
    "\n",
    "## 카이제곱 검정의 세 가지 검정\n",
    "\n",
    "- 적합성 검정 : 각 범주에 따른 데이터의 빈도분포가 이론적으로 기대하는 분포를 따르는지를 검정함<br>\n",
    "&emsp;&emsp;&emsp;&emsp;&emsp;&emsp;ex. 주사위를 굴렸을 때, 각 주사위의 값이 1/6의 확률로 등장하는 게 맞는지 검정\n",
    "- 독립성 검정 : 두 개 이상의 범주형 변수에 대해서, 그 변수들의 관계에 따라 값들의 분포가 유의미한 차이를 보이는지 검정함<br>\n",
    "&emsp;&emsp;&emsp;&emsp;&emsp;&emsp;ex. 고객의 지역과 보험 가입 여부가 주어졌을 때 지역에 따른 보험 가입 비율의 차이가 존재하는지 검정\n",
    "- 동질성 검정 : 부모집단의 관측값들이 정해진 범주 내에서 서로 비슷하게 나타나고 있는지를 검정<br>\n",
    "&emsp;&emsp;&emsp;&emsp;&emsp;&emsp;ex. 남학생의 TV 프로그램 선호도와 여학생의 TV프로그램 선호도가 동일한지 검정\n",
    "\n",
    "### 동질성 검정과 독립성 검정의 차이\n",
    "- 동질성 검정은 범주 A에 대해 범주B의 유형들이 같은 빈도로 나타는지를 검정하는 것 \n",
    "- 독립성 검정은 독립적인지 (혹은 상관성이 있는지)를 검정하는 것 \n"
   ]
  },
  {
   "cell_type": "markdown",
   "id": "818026ce",
   "metadata": {},
   "source": [
    "### 5번 문제는 두개 이상의 범주형 변수에 대해서 변수들 간의 관계에 따라 분포의 차이를 보는 것이므로 독립성 검정을 시행해야함 \n",
    "\n",
    "- 모집단이 두 개의 변수 A, B에 의해 범주화되었을 때, 이 두 변수들 사이의 관계가 독립인지 아닌지 검정하는 것\n",
    "- 교차표를 활용함\n",
    "\n",
    "> scipy.stats.chi2_contingency(observed)<br>\n",
    "> observed : 교차표 (각 범주에서의 발생 횟수 표)<br>\n",
    "\n",
    "\n",
    "<br><b>[가설]</b>\n",
    "\n",
    "\n",
    "<span style='color: #CD5C5C'> - 귀무가설 : 자치구와 지지율은 독립이다 </span><br>\n",
    "<span style='color: #CD5C5C'> - 대립가설 : 자치구와 지지율은 독립이 아니다 </span>"
   ]
  },
  {
   "cell_type": "code",
   "execution_count": 1,
   "id": "7c8966b7",
   "metadata": {},
   "outputs": [
    {
     "data": {
      "text/html": [
       "<div>\n",
       "<style scoped>\n",
       "    .dataframe tbody tr th:only-of-type {\n",
       "        vertical-align: middle;\n",
       "    }\n",
       "\n",
       "    .dataframe tbody tr th {\n",
       "        vertical-align: top;\n",
       "    }\n",
       "\n",
       "    .dataframe thead th {\n",
       "        text-align: right;\n",
       "    }\n",
       "</style>\n",
       "<table border=\"1\" class=\"dataframe\">\n",
       "  <thead>\n",
       "    <tr style=\"text-align: right;\">\n",
       "      <th></th>\n",
       "      <th>vote</th>\n",
       "      <th>A</th>\n",
       "      <th>B</th>\n",
       "      <th>C</th>\n",
       "    </tr>\n",
       "  </thead>\n",
       "  <tbody>\n",
       "    <tr>\n",
       "      <th>0</th>\n",
       "      <td>찬성</td>\n",
       "      <td>176</td>\n",
       "      <td>193</td>\n",
       "      <td>159</td>\n",
       "    </tr>\n",
       "    <tr>\n",
       "      <th>1</th>\n",
       "      <td>반대</td>\n",
       "      <td>124</td>\n",
       "      <td>107</td>\n",
       "      <td>141</td>\n",
       "    </tr>\n",
       "  </tbody>\n",
       "</table>\n",
       "</div>"
      ],
      "text/plain": [
       "  vote    A    B    C\n",
       "0   찬성  176  193  159\n",
       "1   반대  124  107  141"
      ]
     },
     "execution_count": 1,
     "metadata": {},
     "output_type": "execute_result"
    }
   ],
   "source": [
    "import pandas as pd \n",
    "import numpy as np \n",
    "data = pd.DataFrame({\"vote\" :[\"찬성\",\"반대\"],\n",
    "                    \"A\" : [176,124],\n",
    "                    \"B\" : [193,107],\n",
    "                    \"C\" : [159,141]})\n",
    "data"
   ]
  },
  {
   "cell_type": "code",
   "execution_count": 2,
   "id": "53ef022d",
   "metadata": {},
   "outputs": [
    {
     "data": {
      "text/html": [
       "<div>\n",
       "<style scoped>\n",
       "    .dataframe tbody tr th:only-of-type {\n",
       "        vertical-align: middle;\n",
       "    }\n",
       "\n",
       "    .dataframe tbody tr th {\n",
       "        vertical-align: top;\n",
       "    }\n",
       "\n",
       "    .dataframe thead th {\n",
       "        text-align: right;\n",
       "    }\n",
       "</style>\n",
       "<table border=\"1\" class=\"dataframe\">\n",
       "  <thead>\n",
       "    <tr style=\"text-align: right;\">\n",
       "      <th></th>\n",
       "      <th>A</th>\n",
       "      <th>B</th>\n",
       "      <th>C</th>\n",
       "    </tr>\n",
       "    <tr>\n",
       "      <th>vote</th>\n",
       "      <th></th>\n",
       "      <th></th>\n",
       "      <th></th>\n",
       "    </tr>\n",
       "  </thead>\n",
       "  <tbody>\n",
       "    <tr>\n",
       "      <th>찬성</th>\n",
       "      <td>176</td>\n",
       "      <td>193</td>\n",
       "      <td>159</td>\n",
       "    </tr>\n",
       "    <tr>\n",
       "      <th>반대</th>\n",
       "      <td>124</td>\n",
       "      <td>107</td>\n",
       "      <td>141</td>\n",
       "    </tr>\n",
       "  </tbody>\n",
       "</table>\n",
       "</div>"
      ],
      "text/plain": [
       "        A    B    C\n",
       "vote               \n",
       "찬성    176  193  159\n",
       "반대    124  107  141"
      ]
     },
     "execution_count": 2,
     "metadata": {},
     "output_type": "execute_result"
    }
   ],
   "source": [
    "data.set_index(\"vote\",inplace=True) ## 교차표를 만들어 주기 위해 인덱스 설정 \n",
    "data"
   ]
  },
  {
   "cell_type": "code",
   "execution_count": 3,
   "id": "1d8aaabb",
   "metadata": {},
   "outputs": [
    {
     "name": "stdout",
     "output_type": "stream",
     "text": [
      "Statistic: 7.945381231671554\n",
      "p-value: 0.01882272023214683\n",
      "df: 2\n",
      "expect: \n",
      " [[176. 176. 176.]\n",
      " [124. 124. 124.]]\n",
      "\n",
      " p-value가 유의수준 0.05보다 작으므로 귀무가설을 기각\n",
      "\n",
      " 자치구와 지지율은 독립이 아니라고 할 수 있다. 즉, 자치구별 H의원에 대한 지지율은 다르다.\n"
     ]
    }
   ],
   "source": [
    "# 카이제곱 검정을 통한 독립성 검정 수행\n",
    "from scipy.stats import chi2_contingency\n",
    "\n",
    "chi, p, df, expect = chi2_contingency(data) \n",
    "\n",
    "print('Statistic:', chi)\n",
    "print('p-value:', p)\n",
    "print('df:', df)\n",
    "print('expect: \\n', expect)\n",
    "\n",
    "print(\"\\n p-value가 유의수준 0.05보다 작으므로 귀무가설을 기각\")\n",
    "print(\"\\n 자치구와 지지율은 독립이 아니라고 할 수 있다. 즉, 자치구별 H의원에 대한 지지율은 다르다.\")"
   ]
  },
  {
   "cell_type": "code",
   "execution_count": null,
   "id": "cdd555b6",
   "metadata": {},
   "outputs": [],
   "source": []
  },
  {
   "cell_type": "code",
   "execution_count": null,
   "id": "013b87be",
   "metadata": {},
   "outputs": [],
   "source": []
  }
 ],
 "metadata": {
  "kernelspec": {
   "display_name": "Python 3 (ipykernel)",
   "language": "python",
   "name": "python3"
  },
  "language_info": {
   "codemirror_mode": {
    "name": "ipython",
    "version": 3
   },
   "file_extension": ".py",
   "mimetype": "text/x-python",
   "name": "python",
   "nbconvert_exporter": "python",
   "pygments_lexer": "ipython3",
   "version": "3.7.12"
  },
  "toc": {
   "base_numbering": 1,
   "nav_menu": {},
   "number_sections": false,
   "sideBar": true,
   "skip_h1_title": false,
   "title_cell": "Table of Contents",
   "title_sidebar": "Contents",
   "toc_cell": false,
   "toc_position": {
    "height": "calc(100% - 180px)",
    "left": "10px",
    "top": "150px",
    "width": "255.594px"
   },
   "toc_section_display": true,
   "toc_window_display": false
  }
 },
 "nbformat": 4,
 "nbformat_minor": 5
}
