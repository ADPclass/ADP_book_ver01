{
 "cells": [
  {
   "cell_type": "markdown",
   "id": "d9a2dafe",
   "metadata": {},
   "source": [
    "# 4번 문제 \n",
    "\n",
    "다음은 1월부터 9월까지의 은의 가격이다\n",
    "\n",
    "1.  은의 가격 및 이동평균값 3이 설정된 시계열 그래프를 그리세요. \n",
    "2.  1월 대비 9월의 은의 가격은 몇 % 올랐는가? (소수점 두번째 자리에서 반올림)"
   ]
  },
  {
   "cell_type": "code",
   "execution_count": 1,
   "id": "9a9c8ace",
   "metadata": {},
   "outputs": [
    {
     "data": {
      "text/html": [
       "<div>\n",
       "<style scoped>\n",
       "    .dataframe tbody tr th:only-of-type {\n",
       "        vertical-align: middle;\n",
       "    }\n",
       "\n",
       "    .dataframe tbody tr th {\n",
       "        vertical-align: top;\n",
       "    }\n",
       "\n",
       "    .dataframe thead th {\n",
       "        text-align: right;\n",
       "    }\n",
       "</style>\n",
       "<table border=\"1\" class=\"dataframe\">\n",
       "  <thead>\n",
       "    <tr style=\"text-align: right;\">\n",
       "      <th></th>\n",
       "      <th>1M</th>\n",
       "      <th>2M</th>\n",
       "      <th>3M</th>\n",
       "      <th>4M</th>\n",
       "      <th>5M</th>\n",
       "      <th>6M</th>\n",
       "      <th>7M</th>\n",
       "      <th>8M</th>\n",
       "      <th>9M</th>\n",
       "    </tr>\n",
       "  </thead>\n",
       "  <tbody>\n",
       "    <tr>\n",
       "      <th>0</th>\n",
       "      <td>12.14</td>\n",
       "      <td>42.6</td>\n",
       "      <td>34.4</td>\n",
       "      <td>35.29</td>\n",
       "      <td>30.96</td>\n",
       "      <td>57.12</td>\n",
       "      <td>37.84</td>\n",
       "      <td>42.49</td>\n",
       "      <td>31.38</td>\n",
       "    </tr>\n",
       "  </tbody>\n",
       "</table>\n",
       "</div>"
      ],
      "text/plain": [
       "      1M    2M    3M     4M     5M     6M     7M     8M     9M\n",
       "0  12.14  42.6  34.4  35.29  30.96  57.12  37.84  42.49  31.38"
      ]
     },
     "execution_count": 1,
     "metadata": {},
     "output_type": "execute_result"
    }
   ],
   "source": [
    "# 라이브러리 불러오기 \n",
    "import pandas as pd \n",
    "import numpy as np\n",
    "\n",
    "data = pd.read_csv(\"./data/26_problem4.csv\")\n",
    "data"
   ]
  },
  {
   "cell_type": "code",
   "execution_count": 2,
   "id": "e5f75614",
   "metadata": {
    "scrolled": false
   },
   "outputs": [
    {
     "data": {
      "text/html": [
       "<div>\n",
       "<style scoped>\n",
       "    .dataframe tbody tr th:only-of-type {\n",
       "        vertical-align: middle;\n",
       "    }\n",
       "\n",
       "    .dataframe tbody tr th {\n",
       "        vertical-align: top;\n",
       "    }\n",
       "\n",
       "    .dataframe thead th {\n",
       "        text-align: right;\n",
       "    }\n",
       "</style>\n",
       "<table border=\"1\" class=\"dataframe\">\n",
       "  <thead>\n",
       "    <tr style=\"text-align: right;\">\n",
       "      <th></th>\n",
       "      <th>month_price</th>\n",
       "    </tr>\n",
       "  </thead>\n",
       "  <tbody>\n",
       "    <tr>\n",
       "      <th>1M</th>\n",
       "      <td>12.14</td>\n",
       "    </tr>\n",
       "    <tr>\n",
       "      <th>2M</th>\n",
       "      <td>42.60</td>\n",
       "    </tr>\n",
       "    <tr>\n",
       "      <th>3M</th>\n",
       "      <td>34.40</td>\n",
       "    </tr>\n",
       "    <tr>\n",
       "      <th>4M</th>\n",
       "      <td>35.29</td>\n",
       "    </tr>\n",
       "    <tr>\n",
       "      <th>5M</th>\n",
       "      <td>30.96</td>\n",
       "    </tr>\n",
       "    <tr>\n",
       "      <th>6M</th>\n",
       "      <td>57.12</td>\n",
       "    </tr>\n",
       "    <tr>\n",
       "      <th>7M</th>\n",
       "      <td>37.84</td>\n",
       "    </tr>\n",
       "    <tr>\n",
       "      <th>8M</th>\n",
       "      <td>42.49</td>\n",
       "    </tr>\n",
       "    <tr>\n",
       "      <th>9M</th>\n",
       "      <td>31.38</td>\n",
       "    </tr>\n",
       "  </tbody>\n",
       "</table>\n",
       "</div>"
      ],
      "text/plain": [
       "    month_price\n",
       "1M        12.14\n",
       "2M        42.60\n",
       "3M        34.40\n",
       "4M        35.29\n",
       "5M        30.96\n",
       "6M        57.12\n",
       "7M        37.84\n",
       "8M        42.49\n",
       "9M        31.38"
      ]
     },
     "execution_count": 2,
     "metadata": {},
     "output_type": "execute_result"
    }
   ],
   "source": [
    "ma_data = data.transpose() \n",
    "ma_data.columns = [\"month_price\"]\n",
    "ma_data"
   ]
  },
  {
   "cell_type": "code",
   "execution_count": 13,
   "id": "a2043497",
   "metadata": {},
   "outputs": [
    {
     "data": {
      "text/html": [
       "<div>\n",
       "<style scoped>\n",
       "    .dataframe tbody tr th:only-of-type {\n",
       "        vertical-align: middle;\n",
       "    }\n",
       "\n",
       "    .dataframe tbody tr th {\n",
       "        vertical-align: top;\n",
       "    }\n",
       "\n",
       "    .dataframe thead th {\n",
       "        text-align: right;\n",
       "    }\n",
       "</style>\n",
       "<table border=\"1\" class=\"dataframe\">\n",
       "  <thead>\n",
       "    <tr style=\"text-align: right;\">\n",
       "      <th></th>\n",
       "      <th>month_price</th>\n",
       "      <th>ma_3</th>\n",
       "    </tr>\n",
       "  </thead>\n",
       "  <tbody>\n",
       "    <tr>\n",
       "      <th>1M</th>\n",
       "      <td>12.14</td>\n",
       "      <td>0.000000</td>\n",
       "    </tr>\n",
       "    <tr>\n",
       "      <th>2M</th>\n",
       "      <td>42.60</td>\n",
       "      <td>0.000000</td>\n",
       "    </tr>\n",
       "    <tr>\n",
       "      <th>3M</th>\n",
       "      <td>34.40</td>\n",
       "      <td>29.713333</td>\n",
       "    </tr>\n",
       "    <tr>\n",
       "      <th>4M</th>\n",
       "      <td>35.29</td>\n",
       "      <td>37.430000</td>\n",
       "    </tr>\n",
       "    <tr>\n",
       "      <th>5M</th>\n",
       "      <td>30.96</td>\n",
       "      <td>33.550000</td>\n",
       "    </tr>\n",
       "    <tr>\n",
       "      <th>6M</th>\n",
       "      <td>57.12</td>\n",
       "      <td>41.123333</td>\n",
       "    </tr>\n",
       "    <tr>\n",
       "      <th>7M</th>\n",
       "      <td>37.84</td>\n",
       "      <td>41.973333</td>\n",
       "    </tr>\n",
       "    <tr>\n",
       "      <th>8M</th>\n",
       "      <td>42.49</td>\n",
       "      <td>45.816667</td>\n",
       "    </tr>\n",
       "    <tr>\n",
       "      <th>9M</th>\n",
       "      <td>31.38</td>\n",
       "      <td>37.236667</td>\n",
       "    </tr>\n",
       "  </tbody>\n",
       "</table>\n",
       "</div>"
      ],
      "text/plain": [
       "    month_price       ma_3\n",
       "1M        12.14   0.000000\n",
       "2M        42.60   0.000000\n",
       "3M        34.40  29.713333\n",
       "4M        35.29  37.430000\n",
       "5M        30.96  33.550000\n",
       "6M        57.12  41.123333\n",
       "7M        37.84  41.973333\n",
       "8M        42.49  45.816667\n",
       "9M        31.38  37.236667"
      ]
     },
     "execution_count": 13,
     "metadata": {},
     "output_type": "execute_result"
    }
   ],
   "source": [
    "ma_data[\"ma_3\"] = 0 \n",
    "ma_data.loc[\"3M\",\"ma_3\"] = ma_data[\"month_price\"][0:3].mean()\n",
    "ma_data.loc[\"4M\",\"ma_3\"] = ma_data[\"month_price\"][1:4].mean()\n",
    "ma_data.loc[\"5M\",\"ma_3\"] = ma_data[\"month_price\"][2:5].mean()\n",
    "ma_data.loc[\"6M\",\"ma_3\"] = ma_data[\"month_price\"][3:6].mean()\n",
    "ma_data.loc[\"7M\",\"ma_3\"] = ma_data[\"month_price\"][4:7].mean()\n",
    "ma_data.loc[\"8M\",\"ma_3\"] = ma_data[\"month_price\"][5:8].mean()\n",
    "ma_data.loc[\"9M\",\"ma_3\"] = ma_data[\"month_price\"][6:9].mean()\n",
    "\n",
    "ma_data"
   ]
  },
  {
   "cell_type": "code",
   "execution_count": 6,
   "id": "cf18d091",
   "metadata": {},
   "outputs": [],
   "source": [
    "## 한 7행 정도라면 for문을 작성하는 것보다는 그냥 복사 붙여넣기로 하는게 편한듯 \n",
    "## 시험장에서는 단순한게 최고!! \n",
    "\n",
    "for i in range(3,10): \n",
    "    ma_data.loc[\"{}M\".format(i),\"ma_3\"] = ma_data[\"month_price\"][i-3:i].mean()"
   ]
  },
  {
   "cell_type": "code",
   "execution_count": 7,
   "id": "ecdaef00",
   "metadata": {},
   "outputs": [
    {
     "data": {
      "text/html": [
       "<div>\n",
       "<style scoped>\n",
       "    .dataframe tbody tr th:only-of-type {\n",
       "        vertical-align: middle;\n",
       "    }\n",
       "\n",
       "    .dataframe tbody tr th {\n",
       "        vertical-align: top;\n",
       "    }\n",
       "\n",
       "    .dataframe thead th {\n",
       "        text-align: right;\n",
       "    }\n",
       "</style>\n",
       "<table border=\"1\" class=\"dataframe\">\n",
       "  <thead>\n",
       "    <tr style=\"text-align: right;\">\n",
       "      <th></th>\n",
       "      <th>month_price</th>\n",
       "      <th>ma_3</th>\n",
       "    </tr>\n",
       "  </thead>\n",
       "  <tbody>\n",
       "    <tr>\n",
       "      <th>1M</th>\n",
       "      <td>12.14</td>\n",
       "      <td>0.000000</td>\n",
       "    </tr>\n",
       "    <tr>\n",
       "      <th>2M</th>\n",
       "      <td>42.60</td>\n",
       "      <td>0.000000</td>\n",
       "    </tr>\n",
       "    <tr>\n",
       "      <th>3M</th>\n",
       "      <td>34.40</td>\n",
       "      <td>29.713333</td>\n",
       "    </tr>\n",
       "    <tr>\n",
       "      <th>4M</th>\n",
       "      <td>35.29</td>\n",
       "      <td>37.430000</td>\n",
       "    </tr>\n",
       "    <tr>\n",
       "      <th>5M</th>\n",
       "      <td>30.96</td>\n",
       "      <td>33.550000</td>\n",
       "    </tr>\n",
       "    <tr>\n",
       "      <th>6M</th>\n",
       "      <td>57.12</td>\n",
       "      <td>41.123333</td>\n",
       "    </tr>\n",
       "    <tr>\n",
       "      <th>7M</th>\n",
       "      <td>37.84</td>\n",
       "      <td>41.973333</td>\n",
       "    </tr>\n",
       "    <tr>\n",
       "      <th>8M</th>\n",
       "      <td>42.49</td>\n",
       "      <td>45.816667</td>\n",
       "    </tr>\n",
       "    <tr>\n",
       "      <th>9M</th>\n",
       "      <td>31.38</td>\n",
       "      <td>37.236667</td>\n",
       "    </tr>\n",
       "  </tbody>\n",
       "</table>\n",
       "</div>"
      ],
      "text/plain": [
       "    month_price       ma_3\n",
       "1M        12.14   0.000000\n",
       "2M        42.60   0.000000\n",
       "3M        34.40  29.713333\n",
       "4M        35.29  37.430000\n",
       "5M        30.96  33.550000\n",
       "6M        57.12  41.123333\n",
       "7M        37.84  41.973333\n",
       "8M        42.49  45.816667\n",
       "9M        31.38  37.236667"
      ]
     },
     "execution_count": 7,
     "metadata": {},
     "output_type": "execute_result"
    }
   ],
   "source": [
    "ma_data"
   ]
  },
  {
   "cell_type": "code",
   "execution_count": 9,
   "id": "7aa6d716",
   "metadata": {},
   "outputs": [
    {
     "data": {
      "text/plain": [
       "[<matplotlib.lines.Line2D at 0x17bf241ea48>]"
      ]
     },
     "execution_count": 9,
     "metadata": {},
     "output_type": "execute_result"
    },
    {
     "data": {
      "image/png": "[encoded data removed]",
      "text/plain": [
       "<Figure size 640x480 with 1 Axes>"
      ]
     },
     "metadata": {},
     "output_type": "display_data"
    }
   ],
   "source": [
    "import matplotlib.pyplot as plt \n",
    "plt.scatter(x=ma_data.index ,y = ma_data[\"month_price\"])\n",
    "plt.plot(ma_data.index[2:], ma_data[\"ma_3\"][2:],c='red')"
   ]
  },
  {
   "cell_type": "markdown",
   "id": "525526ff",
   "metadata": {},
   "source": [
    "## 4-2.  1월 대비 9월의 은의 가격은 몇 % 올랐는가? 소수점 두번째 자리에서 반올림"
   ]
  },
  {
   "cell_type": "code",
   "execution_count": 10,
   "id": "bc501077",
   "metadata": {},
   "outputs": [
    {
     "data": {
      "text/html": [
       "<div>\n",
       "<style scoped>\n",
       "    .dataframe tbody tr th:only-of-type {\n",
       "        vertical-align: middle;\n",
       "    }\n",
       "\n",
       "    .dataframe tbody tr th {\n",
       "        vertical-align: top;\n",
       "    }\n",
       "\n",
       "    .dataframe thead th {\n",
       "        text-align: right;\n",
       "    }\n",
       "</style>\n",
       "<table border=\"1\" class=\"dataframe\">\n",
       "  <thead>\n",
       "    <tr style=\"text-align: right;\">\n",
       "      <th></th>\n",
       "      <th>month_price</th>\n",
       "      <th>ma_3</th>\n",
       "    </tr>\n",
       "  </thead>\n",
       "  <tbody>\n",
       "    <tr>\n",
       "      <th>1M</th>\n",
       "      <td>12.14</td>\n",
       "      <td>0.000000</td>\n",
       "    </tr>\n",
       "    <tr>\n",
       "      <th>2M</th>\n",
       "      <td>42.60</td>\n",
       "      <td>0.000000</td>\n",
       "    </tr>\n",
       "    <tr>\n",
       "      <th>3M</th>\n",
       "      <td>34.40</td>\n",
       "      <td>29.713333</td>\n",
       "    </tr>\n",
       "    <tr>\n",
       "      <th>4M</th>\n",
       "      <td>35.29</td>\n",
       "      <td>37.430000</td>\n",
       "    </tr>\n",
       "    <tr>\n",
       "      <th>5M</th>\n",
       "      <td>30.96</td>\n",
       "      <td>33.550000</td>\n",
       "    </tr>\n",
       "    <tr>\n",
       "      <th>6M</th>\n",
       "      <td>57.12</td>\n",
       "      <td>41.123333</td>\n",
       "    </tr>\n",
       "    <tr>\n",
       "      <th>7M</th>\n",
       "      <td>37.84</td>\n",
       "      <td>41.973333</td>\n",
       "    </tr>\n",
       "    <tr>\n",
       "      <th>8M</th>\n",
       "      <td>42.49</td>\n",
       "      <td>45.816667</td>\n",
       "    </tr>\n",
       "    <tr>\n",
       "      <th>9M</th>\n",
       "      <td>31.38</td>\n",
       "      <td>37.236667</td>\n",
       "    </tr>\n",
       "  </tbody>\n",
       "</table>\n",
       "</div>"
      ],
      "text/plain": [
       "    month_price       ma_3\n",
       "1M        12.14   0.000000\n",
       "2M        42.60   0.000000\n",
       "3M        34.40  29.713333\n",
       "4M        35.29  37.430000\n",
       "5M        30.96  33.550000\n",
       "6M        57.12  41.123333\n",
       "7M        37.84  41.973333\n",
       "8M        42.49  45.816667\n",
       "9M        31.38  37.236667"
      ]
     },
     "execution_count": 10,
     "metadata": {},
     "output_type": "execute_result"
    }
   ],
   "source": [
    "ma_data"
   ]
  },
  {
   "cell_type": "code",
   "execution_count": 11,
   "id": "1e23bb9e",
   "metadata": {},
   "outputs": [
    {
     "data": {
      "text/plain": [
       "258.5"
      ]
     },
     "execution_count": 11,
     "metadata": {},
     "output_type": "execute_result"
    }
   ],
   "source": [
    "round(ma_data[\"month_price\"][-1]/ma_data[\"month_price\"][0]*100,1)"
   ]
  },
  {
   "cell_type": "markdown",
   "id": "74d2f22b",
   "metadata": {},
   "source": [
    "# 정답 : 258.5%"
   ]
  },
  {
   "cell_type": "code",
   "execution_count": null,
   "id": "f18b1847",
   "metadata": {},
   "outputs": [],
   "source": []
  }
 ],
 "metadata": {
  "kernelspec": {
   "display_name": "Python 3 (ipykernel)",
   "language": "python",
   "name": "python3"
  },
  "language_info": {
   "codemirror_mode": {
    "name": "ipython",
    "version": 3
   },
   "file_extension": ".py",
   "mimetype": "text/x-python",
   "name": "python",
   "nbconvert_exporter": "python",
   "pygments_lexer": "ipython3",
   "version": "3.7.12"
  },
  "toc": {
   "base_numbering": 1,
   "nav_menu": {},
   "number_sections": false,
   "sideBar": true,
   "skip_h1_title": false,
   "title_cell": "Table of Contents",
   "title_sidebar": "Contents",
   "toc_cell": false,
   "toc_position": {},
   "toc_section_display": true,
   "toc_window_display": false
  }
 },
 "nbformat": 4,
 "nbformat_minor": 5
}
