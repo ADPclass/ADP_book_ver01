{
 "cells": [
  {
   "cell_type": "markdown",
   "id": "541908fc",
   "metadata": {},
   "source": [
    "# 6번문제\n",
    "\n",
    "## A학교 남녀 학생들의 평균 혈압 차이가 있는지 여부에 대한 검정 문제 \n",
    "\n",
    "* 단, 남학생과 여학생의 혈압 데이터는 정규분포를 따르며 등분산임을 가정한다\n",
    "\n",
    "\n",
    "> 1) 남녀 학생들의 평균 혈압 차이가 있는지에 대해 가설을 설정하라 \n",
    "\n",
    "> 2) 검정통계량을 구하고 판단해라 \n",
    "\n",
    "> 3) 평균 혈압차의 신뢰구간을 구했을 때, 판단한 결과가 2) 의 결과를 지지하는지 설명해라 "
   ]
  },
  {
   "cell_type": "markdown",
   "id": "29071e2d",
   "metadata": {},
   "source": [
    "## 1) 남녀 학생들의 평균 혈압 차이가 있는지에 대해 가설을 설정하라\n",
    "\n",
    "### 귀무가설 : A학교에서 성별에 따른 평균 혈압 차이는 없다. \n",
    "### 대립가설 : A학교에서 성별에 따른 평균 혈압 차이는 있다. "
   ]
  },
  {
   "cell_type": "code",
   "execution_count": 1,
   "id": "f6b3382f",
   "metadata": {
    "scrolled": false
   },
   "outputs": [
    {
     "data": {
      "text/html": [
       "<div>\n",
       "<style scoped>\n",
       "    .dataframe tbody tr th:only-of-type {\n",
       "        vertical-align: middle;\n",
       "    }\n",
       "\n",
       "    .dataframe tbody tr th {\n",
       "        vertical-align: top;\n",
       "    }\n",
       "\n",
       "    .dataframe thead th {\n",
       "        text-align: right;\n",
       "    }\n",
       "</style>\n",
       "<table border=\"1\" class=\"dataframe\">\n",
       "  <thead>\n",
       "    <tr style=\"text-align: right;\">\n",
       "      <th></th>\n",
       "      <th>gender</th>\n",
       "      <th>pressure</th>\n",
       "    </tr>\n",
       "  </thead>\n",
       "  <tbody>\n",
       "    <tr>\n",
       "      <th>0</th>\n",
       "      <td>male</td>\n",
       "      <td>106.8</td>\n",
       "    </tr>\n",
       "    <tr>\n",
       "      <th>1</th>\n",
       "      <td>male</td>\n",
       "      <td>100.8</td>\n",
       "    </tr>\n",
       "    <tr>\n",
       "      <th>2</th>\n",
       "      <td>male</td>\n",
       "      <td>84.5</td>\n",
       "    </tr>\n",
       "    <tr>\n",
       "      <th>3</th>\n",
       "      <td>male</td>\n",
       "      <td>104.2</td>\n",
       "    </tr>\n",
       "    <tr>\n",
       "      <th>4</th>\n",
       "      <td>male</td>\n",
       "      <td>107.0</td>\n",
       "    </tr>\n",
       "  </tbody>\n",
       "</table>\n",
       "</div>"
      ],
      "text/plain": [
       "  gender  pressure\n",
       "0   male     106.8\n",
       "1   male     100.8\n",
       "2   male      84.5\n",
       "3   male     104.2\n",
       "4   male     107.0"
      ]
     },
     "execution_count": 1,
     "metadata": {},
     "output_type": "execute_result"
    }
   ],
   "source": [
    "import pandas as pd \n",
    "data = pd.read_csv(\"https://raw.githubusercontent.com/ADPclass/ADP_book_ver01/main/data/26_problem6.csv\")\n",
    "data.head()"
   ]
  },
  {
   "cell_type": "code",
   "execution_count": 2,
   "id": "b9362b95",
   "metadata": {},
   "outputs": [
    {
     "data": {
      "text/plain": [
       "Ttest_indResult(statistic=1.3813481801194591, pvalue=0.18044550626193734)"
      ]
     },
     "execution_count": 2,
     "metadata": {},
     "output_type": "execute_result"
    }
   ],
   "source": [
    "# 성별에 따른 혈압이 등분산성을 만족한다는 조건 하에 독립 t검정 수행 (ttest_ind), default is 'two-sided' \n",
    "import scipy.stats as stats\n",
    "\n",
    "## 데이터 나누기 \n",
    "male = data.loc[data.gender == 'male', 'pressure']\n",
    "female = data.loc[data.gender == 'female', 'pressure']\n",
    "\n",
    "test_result = stats.ttest_ind(male, female, equal_var=True)\n",
    "test_result"
   ]
  },
  {
   "cell_type": "markdown",
   "id": "69cf51f8",
   "metadata": {},
   "source": [
    "### 검정 결과: 귀무가설 기각하지 못한다. \n",
    "### 즉, 성별에 따라 평균 혈압의 차이가 없다고 할 수 있다. "
   ]
  },
  {
   "cell_type": "markdown",
   "id": "27184106",
   "metadata": {},
   "source": [
    "# 3) 평균 혈압차의 신뢰구간을 구했을 때, 판단한 결과가 2) 의 결과를 지지하는지 설명해라"
   ]
  },
  {
   "cell_type": "code",
   "execution_count": 3,
   "id": "a69cb17b",
   "metadata": {},
   "outputs": [],
   "source": [
    "## 차이의 신뢰구간이란?? / 기초 or 수리 통계학 책 필요한 이유! "
   ]
  },
  {
   "cell_type": "code",
   "execution_count": 4,
   "id": "ee255f0c",
   "metadata": {},
   "outputs": [
    {
     "data": {
      "text/plain": [
       "5.296527777777783"
      ]
     },
     "execution_count": 4,
     "metadata": {},
     "output_type": "execute_result"
    }
   ],
   "source": [
    "male.mean() - female.mean()"
   ]
  },
  {
   "cell_type": "code",
   "execution_count": 5,
   "id": "8f161466",
   "metadata": {
    "scrolled": false
   },
   "outputs": [],
   "source": [
    "#평균과 신뢰구간\n",
    "from numpy import array,mean\n",
    "from scipy.stats import sem,t\n",
    "import numpy as np\n"
   ]
  },
  {
   "cell_type": "code",
   "execution_count": 6,
   "id": "a0a4f33a",
   "metadata": {
    "scrolled": true
   },
   "outputs": [
    {
     "data": {
      "text/plain": [
       "1.3813481801194591"
      ]
     },
     "execution_count": 6,
     "metadata": {},
     "output_type": "execute_result"
    }
   ],
   "source": [
    "test_result.statistic"
   ]
  },
  {
   "cell_type": "code",
   "execution_count": 7,
   "id": "a9ea9031",
   "metadata": {},
   "outputs": [
    {
     "data": {
      "text/plain": [
       "-2.068657610419041"
      ]
     },
     "execution_count": 7,
     "metadata": {},
     "output_type": "execute_result"
    }
   ],
   "source": [
    "t._ppf(0.025,(len(male)+len(female)-2)) ## 작은 값쪽 기각역 \n",
    "## t분포를 따르는 값 _ppf ( a/2 , n1 -1 +  n2 -1 )"
   ]
  },
  {
   "cell_type": "code",
   "execution_count": 8,
   "id": "9e8bdba0",
   "metadata": {},
   "outputs": [],
   "source": [
    "## 기각역 : [-2.068,2.068]\n"
   ]
  },
  {
   "cell_type": "code",
   "execution_count": 9,
   "id": "94a7601c",
   "metadata": {},
   "outputs": [],
   "source": [
    "## 신뢰구간은?? 결국 기각역에 Sp/sqrt(1/n1 + 1/n2) 를 해주면 된다. \n",
    "\n",
    "\n",
    "## 신뢰구간이 필요한건, 변환을 시켜서 가져가는 것이 아닌, 원본 데이터의 구간이 궁금!!!! "
   ]
  },
  {
   "cell_type": "code",
   "execution_count": 10,
   "id": "a5516805",
   "metadata": {},
   "outputs": [],
   "source": [
    "## 통합 표준편차를 구하는 공식이 복잡하므로 함수를 만들어 사용 \n",
    "def sp(data1, data2) : \n",
    "    df = len(data) + len(data2) -2\n",
    "    s1 = (len(data1)-1) * (data1.std()**2)\n",
    "    s2 = (len(data2)-1) * (data2.std()**2)\n",
    "    sp = np.sqrt((s1+s2)/ df)\n",
    "    return sp \n",
    "    "
   ]
  },
  {
   "cell_type": "code",
   "execution_count": 11,
   "id": "4c3fc024",
   "metadata": {},
   "outputs": [
    {
     "data": {
      "text/plain": [
       "7.801682371761947"
      ]
     },
     "execution_count": 11,
     "metadata": {},
     "output_type": "execute_result"
    }
   ],
   "source": [
    "sp(male,female)"
   ]
  },
  {
   "cell_type": "code",
   "execution_count": 12,
   "id": "80ee9c9d",
   "metadata": {},
   "outputs": [
    {
     "data": {
      "text/plain": [
       "-2.801911391044692"
      ]
     },
     "execution_count": 12,
     "metadata": {},
     "output_type": "execute_result"
    }
   ],
   "source": [
    "ci_v = t._ppf(0.025,(len(male)+len(female)-2)) * sp(male,female) * (1/len(male) + 1/len(female))\n",
    "ci_v"
   ]
  },
  {
   "cell_type": "code",
   "execution_count": 13,
   "id": "b5b5a008",
   "metadata": {},
   "outputs": [],
   "source": [
    "## 이제 우리의 관심은 다시 male.mean() - female.mean()"
   ]
  },
  {
   "cell_type": "code",
   "execution_count": 14,
   "id": "6b2b6bd9",
   "metadata": {},
   "outputs": [
    {
     "data": {
      "text/plain": [
       "0.1178638181758219"
      ]
     },
     "execution_count": 14,
     "metadata": {},
     "output_type": "execute_result"
    }
   ],
   "source": [
    "(male.mean() - female.mean())/sp(male,female) * (1/len(male) + 1/len(female))"
   ]
  },
  {
   "cell_type": "code",
   "execution_count": 15,
   "id": "9c8f3752",
   "metadata": {},
   "outputs": [
    {
     "data": {
      "text/plain": [
       "8.098439168822475"
      ]
     },
     "execution_count": 15,
     "metadata": {},
     "output_type": "execute_result"
    }
   ],
   "source": [
    "male.mean() - female.mean() - t._ppf(0.025,(len(male)+len(female)-2)) * sp(male,female) * (1/len(male) + 1/len(female))"
   ]
  },
  {
   "cell_type": "code",
   "execution_count": 16,
   "id": "910041ee",
   "metadata": {},
   "outputs": [
    {
     "data": {
      "text/plain": [
       "2.494616386733091"
      ]
     },
     "execution_count": 16,
     "metadata": {},
     "output_type": "execute_result"
    }
   ],
   "source": [
    "male.mean() - female.mean() + t._ppf(0.025,(len(male)+len(female)-2)) * sp(male,female) * (1/len(male) + 1/len(female))"
   ]
  },
  {
   "cell_type": "code",
   "execution_count": 17,
   "id": "c75f250c",
   "metadata": {},
   "outputs": [
    {
     "data": {
      "text/plain": [
       "(2.4946163867330915, 8.098439168822473)"
      ]
     },
     "execution_count": 17,
     "metadata": {},
     "output_type": "execute_result"
    }
   ],
   "source": [
    "alpha = 0.95 \n",
    "dof = len(male) + len(female) -2\n",
    "diff_mean = male.mean() - female.mean()\n",
    "s =  sp(male,female) * (1/len(male) + 1/len(female))\n",
    "\n",
    "CI = t.interval(alpha, dof, loc = diff_mean, scale = s) \n",
    "CI"
   ]
  },
  {
   "cell_type": "markdown",
   "id": "94336134",
   "metadata": {},
   "source": [
    "## 신뢰구간 : [2.495 , 8.098]  \n",
    "* 소숫점 4째 자리 반올림 \n",
    "\n",
    "우리가 검정에 사용했던 남자평균 - 여자평균의 값이 5.29*** 이었으므로 신뢰구간을 구한 결과도 앞선 독립 2표본 t검정 결과를 지지한다. \n"
   ]
  }
 ],
 "metadata": {
  "kernelspec": {
   "display_name": "Python 3 (ipykernel)",
   "language": "python",
   "name": "python3"
  },
  "language_info": {
   "codemirror_mode": {
    "name": "ipython",
    "version": 3
   },
   "file_extension": ".py",
   "mimetype": "text/x-python",
   "name": "python",
   "nbconvert_exporter": "python",
   "pygments_lexer": "ipython3",
   "version": "3.7.12"
  },
  "toc": {
   "base_numbering": 1,
   "nav_menu": {},
   "number_sections": false,
   "sideBar": true,
   "skip_h1_title": false,
   "title_cell": "Table of Contents",
   "title_sidebar": "Contents",
   "toc_cell": false,
   "toc_position": {
    "height": "calc(100% - 180px)",
    "left": "10px",
    "top": "150px",
    "width": "284.418px"
   },
   "toc_section_display": true,
   "toc_window_display": false
  }
 },
 "nbformat": 4,
 "nbformat_minor": 5
}
